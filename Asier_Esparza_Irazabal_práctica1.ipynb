{
 "cells": [
  {
   "cell_type": "markdown",
   "metadata": {
    "toc": true
   },
   "source": [
    "<h1>Table of Contents<span class=\"tocSkip\"></span></h1>\n",
    "<div class=\"toc\"><ul class=\"toc-item\"></ul></div>"
   ]
  },
  {
   "cell_type": "markdown",
   "metadata": {},
   "source": [
    "**1.  Porcentaje de vocales. Escribe una función porcentVocal(s) en que dado un string s, la\n",
    "función devuelva el porcentaje de vocales que contiene el string. Deben considerarse vocales\n",
    "minúsculas y mayúsculas. Devolver el resultado con un decimal de precisión.\n",
    "Consideraremos que las vocales están sin tilde o acento gráfico. Se valorará prever el caso que\n",
    "se envíe como argumento un string vacío.**"
   ]
  },
  {
   "cell_type": "code",
   "execution_count": 28,
   "metadata": {},
   "outputs": [],
   "source": [
    "def porcentVocal(s):\n",
    "    \"\"\"\n",
    "    Calcula el porcentaje de vocales en un string.\n",
    "\n",
    "    Argumentos:\n",
    "        s: El string de entrada.\n",
    "\n",
    "    Devuelve:\n",
    "        El porcentaje de vocales con un decimal de precisión.\n",
    "        Devuelve 0.0 si el string está vacío.\n",
    "    \"\"\"\n",
    "    if not s:  # Preveer el caso de string vacío\n",
    "        return 0.0\n",
    "\n",
    "    vocales = \"aeiouAEIOU\"\n",
    "    contador_vocales = 0\n",
    "\n",
    "    for caracter in s:\n",
    "        if caracter in vocales:\n",
    "            contador_vocales += 1\n",
    "\n",
    "    porcentaje = (contador_vocales / len(s)) * 100\n",
    "    return round(porcentaje, 1)"
   ]
  },
  {
   "cell_type": "code",
   "execution_count": 29,
   "metadata": {},
   "outputs": [
    {
     "name": "stdout",
     "output_type": "stream",
     "text": [
      "porcentVocal('Hola') es 50.0\n",
      "porcentVocal('Acacia') es 66.7\n",
      "porcentVocal('Brrrrrrr') es 0.0\n",
      "porcentVocal('aAe') es 100.0\n",
      "porcentVocal('') es 0.0\n",
      "porcentVocal('PyThOn') es 16.7\n"
     ]
    }
   ],
   "source": [
    "print(f\"porcentVocal('Hola') es {porcentVocal('Hola')}\")\n",
    "print(f\"porcentVocal('Acacia') es {porcentVocal('Acacia')}\")\n",
    "print(f\"porcentVocal('Brrrrrrr') es {porcentVocal('Brrrrrrr')}\")\n",
    "print(f\"porcentVocal('aAe') es {porcentVocal('aAe')}\")\n",
    "print(f\"porcentVocal('') es {porcentVocal('')}\") # Prueba con string vacío\n",
    "print(f\"porcentVocal('PyThOn') es {porcentVocal('PyThOn')}\")"
   ]
  },
  {
   "cell_type": "markdown",
   "metadata": {},
   "source": [
    "**2. Elimina vocales. Diseña una función delete_vowels(s) que, dado un string s devuelva un\n",
    "string con los caracteres de s en el mismo orden pero sin sus vocales (mayúsculas o\n",
    "minúsculas). Nota: consideraremos que las vocales que aparezcan serán sin tilde o acento\n",
    "gráfico.**\n",
    "\n"
   ]
  },
  {
   "cell_type": "code",
   "execution_count": 30,
   "metadata": {},
   "outputs": [],
   "source": [
    "def delete_vowels(s):\n",
    "    \"\"\"\n",
    "    Elimina todas las vocales (mayúsculas o minúsculas) de un string.\n",
    "\n",
    "    Argumentos:\n",
    "        s: El string de entrada.\n",
    "\n",
    "    Devuelve:\n",
    "        Un nuevo string con las vocales eliminadas.\n",
    "    \"\"\"\n",
    "    vocales = \"aeiouAEIOU\"\n",
    "    resultado = \"\"\n",
    "    for caracter in s:\n",
    "        if caracter not in vocales:\n",
    "            resultado += caracter\n",
    "    return resultado"
   ]
  },
  {
   "cell_type": "code",
   "execution_count": 31,
   "metadata": {},
   "outputs": [
    {
     "name": "stdout",
     "output_type": "stream",
     "text": [
      "delete_vowels('Casablanca') es 'Csblnc'\n",
      "delete_vowels('Alicante') es 'lcnt'\n",
      "delete_vowels('Hoy hay examen') es 'Hy hy xmn'\n",
      "delete_vowels('Programacion') es 'Prgrmcn'\n",
      "delete_vowels('AEIOUaeiou') es ''\n",
      "delete_vowels('Rhythm') es 'Rhythm'\n",
      "delete_vowels('') es ''\n"
     ]
    }
   ],
   "source": [
    "print(f\"delete_vowels('Casablanca') es '{delete_vowels('Casablanca')}'\")\n",
    "print(f\"delete_vowels('Alicante') es '{delete_vowels('Alicante')}'\")\n",
    "print(f\"delete_vowels('Hoy hay examen') es '{delete_vowels('Hoy hay examen')}'\")\n",
    "print(f\"delete_vowels('Programacion') es '{delete_vowels('Programacion')}'\")\n",
    "print(f\"delete_vowels('AEIOUaeiou') es '{delete_vowels('AEIOUaeiou')}'\")\n",
    "print(f\"delete_vowels('Rhythm') es '{delete_vowels('Rhythm')}'\") # No tiene vocales\n",
    "print(f\"delete_vowels('') es '{delete_vowels('')}'\") # String vacío"
   ]
  },
  {
   "cell_type": "markdown",
   "metadata": {},
   "source": [
    "**3. Calcula código. Dado un string s que contiene los nombres y apellidos de una persona, diseña\n",
    "la función codigo(s) que devuelva el string ini + str(count), donde ini contiene las iniciales\n",
    "de la persona (las letras mayúsculas de s) y count es el número total de letras de sus nombres\n",
    "y apellidos (es decir, las letras de s sin contar caracteres blancos o espacios).**"
   ]
  },
  {
   "cell_type": "code",
   "execution_count": 32,
   "metadata": {},
   "outputs": [],
   "source": [
    "def codigo(s):\n",
    "    \"\"\"\n",
    "    Genera un código a partir de un string con nombres y apellidos.\n",
    "\n",
    "    El código se forma con las iniciales (letras mayúsculas) de la persona\n",
    "    seguidas del número total de letras (sin contar espacios).\n",
    "\n",
    "    Argumentos:\n",
    "        s: El string que contiene el nombre completo de la persona.\n",
    "\n",
    "    Devuelve:\n",
    "        Un string con las iniciales seguidas del conteo de letras.\n",
    "        Devuelve un string vacío si el string de entrada está vacío.\n",
    "    \"\"\"\n",
    "    if not s:\n",
    "        return \"\"\n",
    "\n",
    "    iniciales = \"\"\n",
    "    contador_letras = 0\n",
    "\n",
    "    for caracter in s:\n",
    "        if caracter.isupper():\n",
    "            iniciales += caracter\n",
    "        if caracter.isalpha(): # isalpha() verifica si es una letra (excluye espacios)\n",
    "            contador_letras += 1\n",
    "\n",
    "    return iniciales + str(contador_letras)"
   ]
  },
  {
   "cell_type": "code",
   "execution_count": 33,
   "metadata": {},
   "outputs": [
    {
     "name": "stdout",
     "output_type": "stream",
     "text": [
      "codigo('Mireia Belmonte García') es 'MBG20'\n",
      "codigo('Bruce Frederick Joseph Springsteen') es 'BFJS31'\n",
      "codigo('') es ''\n",
      "codigo('Gerard Piqué Bernabéu') es 'GPB19'\n",
      "codigo('Sergio Ramos García') es 'SRG17'\n",
      "codigo('Ana Lopez') es 'AL8'\n",
      "codigo('JUAN PEREZ') es 'JUANPEREZ9'\n"
     ]
    }
   ],
   "source": [
    "print(f\"codigo('Mireia Belmonte García') es '{codigo('Mireia Belmonte García')}'\")\n",
    "print(f\"codigo('Bruce Frederick Joseph Springsteen') es '{codigo('Bruce Frederick Joseph Springsteen')}'\")\n",
    "print(f\"codigo('') es '{codigo('')}'\")\n",
    "print(f\"codigo('Gerard Piqué Bernabéu') es '{codigo('Gerard Piqué Bernabéu')}'\")\n",
    "print(f\"codigo('Sergio Ramos García') es '{codigo('Sergio Ramos García')}'\")\n",
    "print(f\"codigo('Ana Lopez') es '{codigo('Ana Lopez')}'\")\n",
    "print(f\"codigo('JUAN PEREZ') es '{codigo('JUAN PEREZ')}'\")"
   ]
  },
  {
   "cell_type": "markdown",
   "metadata": {},
   "source": [
    "**4. Contador de hidrógenos. Una fórmula química es una representación convencional de los\n",
    "elementos que forman un compuesto. Por ejemplo, el 1-2-butadiol sería C2H5O, que se\n",
    "representa con el string 'C2H5O'. También pueden aparecer elementos químicos de dos\n",
    "caracteres como el calcio Ca en CaCO3 ( 'CaCO3') o el hierro Fe en Fe3O4 ( 'Fe3O4'). En estos\n",
    "casos el segundo carácter del símbolo siempre es una minúscula. Diseña la función\n",
    "contar_hidrogenos(s) que, dado un string s con un compuesto como los descritos antes,\n",
    "devuelve el número de átomos de hidrógeno que contiene. Para simplificar el problema,\n",
    "limitaremos el número que puede seguir el símbolo de un elemento a un valor entre 2 y 9.**\n"
   ]
  },
  {
   "cell_type": "code",
   "execution_count": 34,
   "metadata": {},
   "outputs": [],
   "source": [
    "def contar_hidrogenos(s):\n",
    "    \"\"\"\n",
    "    Cuenta el número de átomos de hidrógeno en una fórmula química.\n",
    "\n",
    "    Argumentos:\n",
    "        s: El string que representa la fórmula química (ej. 'C2H5O', 'H2O').\n",
    "\n",
    "    Devuelve:\n",
    "        El número de átomos de hidrógeno presentes en la fórmula.\n",
    "    \"\"\"\n",
    "    total_hidrogenos = 0\n",
    "    n = len(s)\n",
    "    i = 0\n",
    "\n",
    "    while i < n:\n",
    "        if s[i] == 'H':\n",
    "            # Comprobar si el siguiente carácter es un número\n",
    "            if i + 1 < n and s[i+1].isdigit():\n",
    "                # El número está entre 2 y 9\n",
    "                total_hidrogenos += int(s[i+1])\n",
    "                i += 2 # Saltar 'H' y el número\n",
    "            else:\n",
    "                # 'H' está solo, significa 1 átomo\n",
    "                total_hidrogenos += 1\n",
    "                i += 1 # Saltar 'H'\n",
    "        else:\n",
    "            # Si no es 'H', simplemente avanzamos\n",
    "            # Necesitamos manejar elementos de dos caracteres y números que los siguen\n",
    "            if s[i].isupper(): # Es el inicio de un elemento\n",
    "                if i + 1 < n and s[i+1].islower(): # Elemento de dos caracteres (ej. 'Fe', 'Ca')\n",
    "                    i += 1 # Saltar la segunda letra del elemento\n",
    "                \n",
    "                # Después de identificar el elemento (de uno o dos caracteres),\n",
    "                # comprobar si le sigue un número. Si es así, saltarlo.\n",
    "                if i + 1 < n and s[i+1].isdigit():\n",
    "                    i += 1 # Saltar el número\n",
    "            i += 1 # Avanzar al siguiente carácter\n",
    "            \n",
    "    return total_hidrogenos"
   ]
  },
  {
   "cell_type": "code",
   "execution_count": 35,
   "metadata": {},
   "outputs": [
    {
     "name": "stdout",
     "output_type": "stream",
     "text": [
      "contar_hidrogenos('HIO') es 1\n",
      "contar_hidrogenos('H2O') es 2\n",
      "contar_hidrogenos('C2H5O') es 5\n",
      "contar_hidrogenos('Fe3O4') es 0\n",
      "contar_hidrogenos('C2OH') es 1\n",
      "contar_hidrogenos('H') es 1\n",
      "contar_hidrogenos('CH4') es 4\n",
      "contar_hidrogenos('CaCO3') es 0\n",
      "contar_hidrogenos('') es 0\n",
      "contar_hidrogenos('HO') es 1\n"
     ]
    }
   ],
   "source": [
    "print(f\"contar_hidrogenos('HIO') es {contar_hidrogenos('HIO')}\")\n",
    "print(f\"contar_hidrogenos('H2O') es {contar_hidrogenos('H2O')}\")\n",
    "print(f\"contar_hidrogenos('C2H5O') es {contar_hidrogenos('C2H5O')}\")\n",
    "print(f\"contar_hidrogenos('Fe3O4') es {contar_hidrogenos('Fe3O4')}\")\n",
    "print(f\"contar_hidrogenos('C2OH') es {contar_hidrogenos('C2OH')}\")\n",
    "print(f\"contar_hidrogenos('H') es {contar_hidrogenos('H')}\")\n",
    "print(f\"contar_hidrogenos('CH4') es {contar_hidrogenos('CH4')}\")\n",
    "print(f\"contar_hidrogenos('CaCO3') es {contar_hidrogenos('CaCO3')}\")\n",
    "print(f\"contar_hidrogenos('') es {contar_hidrogenos('')}\") # String vacío\n",
    "print(f\"contar_hidrogenos('HO') es {contar_hidrogenos('HO')}\")"
   ]
  },
  {
   "cell_type": "markdown",
   "metadata": {},
   "source": [
    "**5. Diseña la función mediaTempRang(lst) en que, dada una lista lst de medidas de\n",
    "temperatura en ºC de un experimento, calcule y devuelva el valor medio de aquellas\n",
    "temperaturas de la lista que estén en el rango de 15 a 45 ºC, inclusive [15, 45]. Devolver el\n",
    "resultado redondeado a 2 cifras decimales. También considerar el caso en que ninguna\n",
    "medida de temperatura de la lista esté en el rango dado. En este caso la función devuelve el\n",
    "valor -1.**\n"
   ]
  },
  {
   "cell_type": "code",
   "execution_count": 36,
   "metadata": {},
   "outputs": [],
   "source": [
    "def mediaTempRang(lst):\n",
    "    \"\"\"\n",
    "    Calcula el valor medio de las temperaturas en una lista que estén en el rango [15, 45] ºC.\n",
    "\n",
    "    Argumentos:\n",
    "        lst: Una lista de medidas de temperatura en ºC.\n",
    "\n",
    "    Devuelve:\n",
    "        El valor medio de las temperaturas en el rango, redondeado a 2 cifras decimales.\n",
    "        Devuelve -1 si ninguna medida de temperatura está en el rango.\n",
    "    \"\"\"\n",
    "    temperaturas_en_rango = []\n",
    "    for temp in lst:\n",
    "        if 15 <= temp <= 45:\n",
    "            temperaturas_en_rango.append(temp)\n",
    "\n",
    "    if not temperaturas_en_rango:\n",
    "        return -1\n",
    "    else:\n",
    "        return round(sum(temperaturas_en_rango) / len(temperaturas_en_rango), 2)"
   ]
  },
  {
   "cell_type": "code",
   "execution_count": 37,
   "metadata": {},
   "outputs": [
    {
     "name": "stdout",
     "output_type": "stream",
     "text": [
      "mediaTempRang([34.5, 12.9, 15, 43, 51.4, 23.4]) es 28.98\n",
      "mediaTempRang([45.5, 12.9, 15, 32.5, 51.4, 21.2]) es 22.9\n",
      "mediaTempRang([14.5, 12.6, 47.8]) es -1\n",
      "mediaTempRang([15, 16, 14, 50, 17]) es 16.0\n",
      "mediaTempRang([]) es -1\n",
      "mediaTempRang([10, 50, 100]) es -1\n"
     ]
    }
   ],
   "source": [
    "lst1 = [34.5, 12.9, 15, 43, 51.4, 23.4]\n",
    "print(f\"mediaTempRang({lst1}) es {mediaTempRang(lst1)}\")\n",
    "\n",
    "lst2 = [45.5, 12.9, 15, 32.5, 51.4, 21.2]\n",
    "print(f\"mediaTempRang({lst2}) es {mediaTempRang(lst2)}\")\n",
    "\n",
    "lst3 = [14.5, 12.6, 47.8]\n",
    "print(f\"mediaTempRang({lst3}) es {mediaTempRang(lst3)}\")\n",
    "\n",
    "lst4 = [15, 16, 14, 50, 17]\n",
    "print(f\"mediaTempRang({lst4}) es {mediaTempRang(lst4)}\")\n",
    "\n",
    "lst5 = [] # Lista vacía\n",
    "print(f\"mediaTempRang({lst5}) es {mediaTempRang(lst5)}\")\n",
    "\n",
    "lst6 = [10, 50, 100] # Ninguna en el rango\n",
    "print(f\"mediaTempRang({lst6}) es {mediaTempRang(lst6)}\")"
   ]
  },
  {
   "cell_type": "markdown",
   "metadata": {},
   "source": [
    "**6. Temperatura 2ª fuera de límites. El Diseñar la función temperatura2limit(lst, L1, L2),\n",
    "en que dada una lista lst de temperaturas en grados Celcius (ºC) medidas cada hora (a partir\n",
    "de la hora 0) y 2 valores L1 y L2 que representan los límites menor y mayor de temperatura,\n",
    "respectivamente, busque y devuelva el valor de la segunda temperatura que esté fuera de\n",
    "esos límites, y la hora en que ocurre. La posición 0 de la lista es la hora 0, la 1 es la hora 1 y\n",
    "así sucesivamente. Si hubieran menos de 2 temperaturas fuera de límite, se retorna -1, -1.**"
   ]
  },
  {
   "cell_type": "code",
   "execution_count": 38,
   "metadata": {},
   "outputs": [],
   "source": [
    "def temperatura2limit(lst, L1, L2):\n",
    "    \"\"\"\n",
    "    Parameters\n",
    "    ----------\n",
    "    lst : tipo lista \n",
    "        Lista de números enteros o reales en unidades de ºC\n",
    "    L1 : tipo numérico, entero o real en unidades de ºC\n",
    "    L2 : tipo numérico, entero o real en unidades de ºC, L1 <= L2\n",
    "    \n",
    "     Returns\n",
    "     -------\n",
    "     una pareja (tupla) con 2 valores numéricos (entero/real, entero)\n",
    "         Se retorna el segundo elemento de la lista de temperaturas de\n",
    "         entrada (ºC)que esté fuera de los límites entre L1 y L2, y la\n",
    "         hora en que ocurre\n",
    "     Si hubieran menos de 2 temperaturas fuera de limite, se retorna -1, -1\n",
    "     \"\"\"\n",
    "    fuera_de_limites = []\n",
    "\n",
    "    for hora, temp in enumerate(lst):\n",
    "        if not (L1 <= temp <= L2):\n",
    "            fuera_de_limites.append((temp, hora))\n",
    "\n",
    "    if len(fuera_de_limites) >= 2:\n",
    "        return fuera_de_limites[1]  # La segunda temperatura fuera de límite\n",
    "    else:\n",
    "        return (-1, -1)"
   ]
  },
  {
   "cell_type": "code",
   "execution_count": 39,
   "metadata": {},
   "outputs": [
    {
     "name": "stdout",
     "output_type": "stream",
     "text": [
      "temperatura2limit([36,37,37.2,36.8,38,37.5,37.6,35.8,37,37.3], 36.5, 38) es (35.8, 7)\n",
      "temperatura2limit([36,37,37.2,36.8,38,37.5,37.6,35.8,37,37.3], 36, 38) es (-1, -1)\n",
      "temperatura2limit([20, 25, 18, 34, 14, 22], 20, 30) es (34, 3)\n",
      "temperatura2limit([20, 25, 18, 30, 14, 22], 20, 30) es (14, 4)\n",
      "temperatura2limit([20, 25, 18, 30, 14, 22], 15, 30) es (-1, -1)\n",
      "temperatura2limit([10, 12, 5, 8], 10, 12) es (8, 3)\n",
      "temperatura2limit([10, 12, 11, 13], 10, 12) es (-1, -1)\n",
      "temperatura2limit([], 0, 100) es (-1, -1)\n"
     ]
    }
   ],
   "source": [
    "print(f\"temperatura2limit([36,37,37.2,36.8,38,37.5,37.6,35.8,37,37.3], 36.5, 38) es {temperatura2limit([36,37,37.2,36.8,38,37.5,37.6,35.8,37,37.3], 36.5, 38)}\")\n",
    "print(f\"temperatura2limit([36,37,37.2,36.8,38,37.5,37.6,35.8,37,37.3], 36, 38) es {temperatura2limit([36,37,37.2,36.8,38,37.5,37.6,35.8,37,37.3], 36, 38)}\")\n",
    "print(f\"temperatura2limit([20, 25, 18, 34, 14, 22], 20, 30) es {temperatura2limit([20, 25, 18, 34, 14, 22], 20, 30)}\")\n",
    "print(f\"temperatura2limit([20, 25, 18, 30, 14, 22], 20, 30) es {temperatura2limit([20, 25, 18, 30, 14, 22], 20, 30)}\")\n",
    "print(f\"temperatura2limit([20, 25, 18, 30, 14, 22], 15, 30) es {temperatura2limit([20, 25, 18, 30, 14, 22], 15, 30)}\")\n",
    "print(f\"temperatura2limit([10, 12, 5, 8], 10, 12) es {temperatura2limit([10, 12, 5, 8], 10, 12)}\") # Solo una fuera de limite\n",
    "print(f\"temperatura2limit([10, 12, 11, 13], 10, 12) es {temperatura2limit([10, 12, 11, 13], 10, 12)}\") # Dos fuera de limite, la segunda es 13 en hora 3\n",
    "print(f\"temperatura2limit([], 0, 100) es {temperatura2limit([], 0, 100)}\") # Lista vacía"
   ]
  },
  {
   "cell_type": "markdown",
   "metadata": {},
   "source": [
    "**7. Primos pitagóricos. Diseña la función primoPitagoric2(lst) en que, dada una lista de\n",
    "números enteros positivos no repetidos, devuelva una lista con los 2 primeros números\n",
    "primos pitagóricos. Si no hubiera al menos 2 primos pitagóricos la función devuelve -1\n",
    "Un número primo es pitagórico si se puede escribir como la suma de dos cuadrados. Por\n",
    "ejemplo 5 = 2<sup>2</sup> + 1<sup>2</sup> o 13 = 2<sup>2</sup> + 3<sup>2</sup>\n",
    ". Fermat demostró que un primo pitagórico p es igual a 4k +\n",
    "1, para algún valor de k entero positivo. Esta condición se puede expresar como: un número\n",
    "primo p es pitagórico si p modulo 4 es igual a 1, es decir si el residuo de dividir p entre 4 es 1.**"
   ]
  },
  {
   "cell_type": "code",
   "execution_count": 40,
   "metadata": {},
   "outputs": [],
   "source": [
    "def es_primo(n):\n",
    "    \"\"\"\n",
    "    Verifica si un número es primo.\n",
    "\n",
    "    Argumentos:\n",
    "        n: Un número entero positivo.\n",
    "\n",
    "    Devuelve:\n",
    "        True si n es primo, False en caso contrario.\n",
    "    \"\"\"\n",
    "    if n <= 1:\n",
    "        return False\n",
    "    for d in range(2, n//2+1):\n",
    "        if n % d == 0:\n",
    "            return False\n",
    "    return True\n",
    "\n",
    "def primoPitagoric2(lst):\n",
    "    \"\"\"\n",
    "    Dada una lista de números enteros positivos no repetidos,\n",
    "    devuelve una lista con los 2 primeros números primos pitagóricos.\n",
    "    Si no hubiera al menos 2 primos pitagóricos, la función devuelve -1.\n",
    "\n",
    "    Argumentos:\n",
    "        lst: Una lista de números enteros positivos no repetidos.\n",
    "\n",
    "    Devuelve:\n",
    "        Una lista con los dos primeros primos pitagóricos encontrados,\n",
    "        o -1 si no se encuentran al menos dos.\n",
    "    \"\"\"\n",
    "    primos_pitagoricos_encontrados = []\n",
    "    \n",
    "    # Ordenar la lista para asegurar que encontramos los \"primeros\" en valor numérico\n",
    "    # Esto es importante si la lista no está ordenada de antemano.\n",
    "    lst_ordenada = sorted(lst) \n",
    "\n",
    "    for num in lst_ordenada:\n",
    "        # Un número primo pitagórico es un primo p tal que p % 4 == 1\n",
    "        if es_primo(num) and num % 4 == 1:\n",
    "            primos_pitagoricos_encontrados.append(num)\n",
    "            if len(primos_pitagoricos_encontrados) == 2:\n",
    "                return primos_pitagoricos_encontrados\n",
    "    \n",
    "    # Si al finalizar el bucle no hemos encontrado al menos 2 primos pitagóricos\n",
    "    return -1"
   ]
  },
  {
   "cell_type": "code",
   "execution_count": 41,
   "metadata": {},
   "outputs": [
    {
     "name": "stdout",
     "output_type": "stream",
     "text": [
      "primoPitagoric2([3, 4, 5, 6, 7, 8, 9, 10, 11, 12, 13]) es [5, 13]\n",
      "primoPitagoric2([5, 9, 13, 17, 21, 25, 29, 33, 37, 41]) es [5, 13]\n",
      "primoPitagoric2([41, 45, 49, 53, 57, 61, 65, 69, 73, 77, 81]) es [41, 53]\n",
      "primoPitagoric2([3, 4, 5, 6, 7, 8, 9, 10]) es -1\n",
      "primoPitagoric2([81, 85, 89, 93, 97, 101, 105, 109, 113, 117, 121]) es [89, 97]\n",
      "primoPitagoric2([2, 3, 7, 11]) es -1\n",
      "primoPitagoric2([5]) es -1\n",
      "primoPitagoric2([]) es -1\n"
     ]
    }
   ],
   "source": [
    "print(f\"primoPitagoric2([3, 4, 5, 6, 7, 8, 9, 10, 11, 12, 13]) es {primoPitagoric2([3, 4, 5, 6, 7, 8, 9, 10, 11, 12, 13])}\")\n",
    "print(f\"primoPitagoric2([5, 9, 13, 17, 21, 25, 29, 33, 37, 41]) es {primoPitagoric2([5, 9, 13, 17, 21, 25, 29, 33, 37, 41])}\")\n",
    "print(f\"primoPitagoric2([41, 45, 49, 53, 57, 61, 65, 69, 73, 77, 81]) es {primoPitagoric2([41, 45, 49, 53, 57, 61, 65, 69, 73, 77, 81])}\")\n",
    "print(f\"primoPitagoric2([3, 4, 5, 6, 7, 8, 9, 10]) es {primoPitagoric2([3, 4, 5, 6, 7, 8, 9, 10])}\")\n",
    "lista = [81, 85, 89, 93, 97, 101, 105, 109, 113, 117, 121]\n",
    "print(f\"primoPitagoric2({lista}) es {primoPitagoric2(lista)}\")\n",
    "print(f\"primoPitagoric2([2, 3, 7, 11]) es {primoPitagoric2([2, 3, 7, 11])}\") # No hay primos pitagóricos\n",
    "print(f\"primoPitagoric2([5]) es {primoPitagoric2([5])}\") # Solo un primo pitagórico\n",
    "print(f\"primoPitagoric2([]) es {primoPitagoric2([])}\") # Lista vacía"
   ]
  },
  {
   "cell_type": "markdown",
   "metadata": {},
   "source": [
    "**8. Contar negativos. Dada una lista de listas que representa una matriz cuadrada m, diseña una\n",
    "función contar_neg(m), que cuente los números NEGATIVOS? que tiene.** "
   ]
  },
  {
   "cell_type": "code",
   "execution_count": 42,
   "metadata": {},
   "outputs": [],
   "source": [
    "def contar_neg(m):\n",
    "    \"\"\"\n",
    "    Cuenta la cantidad de números enteros negativos en una matriz cuadrada.\n",
    "\n",
    "    Argumentos:\n",
    "        m: Una lista de listas que representa una matriz cuadrada.\n",
    "\n",
    "    Devuelve:\n",
    "        El conteo total de números negativos en la matriz.\n",
    "    \"\"\"\n",
    "    contador_negativos = 0\n",
    "    for fila in m:\n",
    "        for elemento in fila:\n",
    "            if elemento < 0:\n",
    "                contador_negativos += 1\n",
    "    return contador_negativos"
   ]
  },
  {
   "cell_type": "code",
   "execution_count": 43,
   "metadata": {},
   "outputs": [
    {
     "name": "stdout",
     "output_type": "stream",
     "text": [
      "contar_neg([[-1,2],[0,-4]]) es 2\n",
      "contar_neg([[1, -2, 3],[-4,5,6],[7,8,-9]]) es 3\n",
      "contar_neg([[1, 2, 3],[4, 5, 6],[7, 8, 9]]) es 0\n",
      "contar_neg([[-1, -2, -3],[-4, -5, -6],[-7, -8, -9]]) es 9\n",
      "contar_neg([[0, 0],[0, 0]]) es 0\n",
      "contar_neg([]) es 0\n",
      "contar_neg([[]]) es 0\n"
     ]
    }
   ],
   "source": [
    "print(f\"contar_neg([[-1,2],[0,-4]]) es {contar_neg([[-1,2],[0,-4]])}\")\n",
    "print(f\"contar_neg([[1, -2, 3],[-4,5,6],[7,8,-9]]) es {contar_neg([[1, -2, 3],[-4,5,6],[7,8,-9]])}\")\n",
    "print(f\"contar_neg([[1, 2, 3],[4, 5, 6],[7, 8, 9]]) es {contar_neg([[1, 2, 3],[4, 5, 6],[7, 8, 9]])}\") # Todos positivos\n",
    "print(f\"contar_neg([[-1, -2, -3],[-4, -5, -6],[-7, -8, -9]]) es {contar_neg([[-1, -2, -3],[-4, -5, -6],[-7, -8, -9]])}\") # Ninguno positivo\n",
    "print(f\"contar_neg([[0, 0],[0, 0]]) es {contar_neg([[0, 0],[0, 0]])}\") # Solo ceros\n",
    "print(f\"contar_neg([]) es {contar_neg([])}\") # Matriz vacía\n",
    "print(f\"contar_neg([[]]) es {contar_neg([[]])}\") # Matriz con fila vacía"
   ]
  },
  {
   "cell_type": "markdown",
   "metadata": {},
   "source": [
    "**9. Mayor densidad. Se dispone del nombre, masa y volumen de un planeta almacenado en una\n",
    "lista: [nombre, masa, volumen]. Además, se tiene una lista de planetas como una lista de listas\n",
    "de la forma: [[nombre1, masa1, volumen1], [nombre2, masa2, volumen2], ...].\n",
    "Diseña la función mas_denso(Lst), en que dada una lista de planetas Lst, nos devuelva el\n",
    "nombre del planeta más denso de esa lista. Si hubiera más de uno con la misma densidad, se\n",
    "devuelve el primero que encuentre en la lista original.** "
   ]
  },
  {
   "cell_type": "code",
   "execution_count": 44,
   "metadata": {},
   "outputs": [],
   "source": [
    "def mas_denso(Lst):\n",
    "    \"\"\"\n",
    "    Dada una lista de planetas [nombre, masa, volumen], devuelve el nombre\n",
    "    del planeta más denso. Si hay empates, devuelve el primero encontrado.\n",
    "\n",
    "    Argumentos:\n",
    "        Lst: Una lista de listas, donde cada sublista es [nombre, masa, volumen] de un planeta.\n",
    "\n",
    "    Devuelve:\n",
    "        El nombre del planeta con la mayor densidad. Si la lista está vacía,\n",
    "        o no contiene datos válidos para calcular la densidad, puede devolver None.\n",
    "    \"\"\"\n",
    "    if not Lst:\n",
    "        return None  # O podrías retornar un string vacío, o levantar un error, según la especificación.\n",
    "\n",
    "    planeta_mas_denso = None\n",
    "    max_densidad = -1.0  # Inicializamos con un valor que cualquier densidad válida superará\n",
    "\n",
    "    for planeta in Lst:\n",
    "        nombre = planeta[0]\n",
    "        masa = planeta[1]\n",
    "        volumen = planeta[2]\n",
    "\n",
    "        # Evitar división por cero si el volumen es 0\n",
    "        if volumen <= 0:\n",
    "            # Podrías optar por ignorar este planeta o manejarlo de otra forma.\n",
    "            # Para este problema, simplemente lo saltamos.\n",
    "            continue\n",
    "        \n",
    "        densidad = masa / volumen\n",
    "\n",
    "        if densidad > max_densidad:\n",
    "            max_densidad = densidad\n",
    "            planeta_mas_denso = nombre\n",
    "            \n",
    "    return planeta_mas_denso"
   ]
  },
  {
   "cell_type": "code",
   "execution_count": 45,
   "metadata": {},
   "outputs": [
    {
     "name": "stdout",
     "output_type": "stream",
     "text": [
      "mas_denso([['Marte', 1, 2], ['Tierra', 2, 3], ['Venus', 1, 3]]) es 'Tierra'\n",
      "mas_denso([['Jupiter', 10, 5], ['Saturno', 8, 4], ['Urano', 6, 3]]) es 'Jupiter'\n",
      "mas_denso([['Mercurio', 1, 1], ['Neptuno', 10, 2]]) es 'Neptuno'\n",
      "mas_denso([['Luna', 1, 1], ['Sol', 1, 1], ['Estrella', 1, 1]]) es 'Luna'\n",
      "mas_denso([]) es 'None'\n",
      "mas_denso([['Error', 10, 0]]) es 'None'\n",
      "mas_denso([['PlanetaA', 5, 2], ['PlanetaB', 10, 4.5]]) es 'PlanetaA'\n"
     ]
    }
   ],
   "source": [
    "print(f\"mas_denso([['Marte', 1, 2], ['Tierra', 2, 3], ['Venus', 1, 3]]) es '{mas_denso([['Marte', 1, 2], ['Tierra', 2, 3], ['Venus', 1, 3]])}'\")\n",
    "print(f\"mas_denso([['Jupiter', 10, 5], ['Saturno', 8, 4], ['Urano', 6, 3]]) es '{mas_denso([['Jupiter', 10, 5], ['Saturno', 8, 4], ['Urano', 6, 3]])}'\") # Todos con densidad 2\n",
    "print(f\"mas_denso([['Mercurio', 1, 1], ['Neptuno', 10, 2]]) es '{mas_denso([['Mercurio', 1, 1], ['Neptuno', 10, 2]])}'\")\n",
    "print(f\"mas_denso([['Luna', 1, 1], ['Sol', 1, 1], ['Estrella', 1, 1]]) es '{mas_denso([['Luna', 1, 1], ['Sol', 1, 1], ['Estrella', 1, 1]])}'\") # Todos con la misma densidad, devuelve el primero\n",
    "print(f\"mas_denso([]) es '{mas_denso([])}'\") # Lista vacía\n",
    "print(f\"mas_denso([['Error', 10, 0]]) es '{mas_denso([['Error', 10, 0]])}'\") # Volumen cero\n",
    "print(f\"mas_denso([['PlanetaA', 5, 2], ['PlanetaB', 10, 4.5]]) es '{mas_denso([['PlanetaA', 5, 2], ['PlanetaB', 10, 4.5]])}'\")"
   ]
  },
  {
   "cell_type": "markdown",
   "metadata": {},
   "source": [
    "**10. Fútbol. Al finalizar la jornada 10 de una liga de futbol se dispone en una lista (equipo) de\n",
    "listas (jugadores) con los registros de los jugadores. En cada registro se guarda: su nombre,\n",
    "edad y los minutos jugados en cada partido que haya jugado de estas jornadas.\n",
    "No todos los jugadores han jugado todos los partidos de estas 10 jornadas, por lo que en cada\n",
    "jugador aparecerán solo los minutos de los partidos jugados.\n",
    "Diseña una función lstJugMin(lst, A, m) en que, dada una lista de un equipo de futbol\n",
    "lst, una edad A y un valor m en minutos, devuelva una lista con los nombres de los jugadores\n",
    "con edad de A años o más que hayan jugado en promedio al menos de m minutos.\n",
    "De no encontrarse jugadores con esta edad mínima ni promedio de minutos jugados, se\n",
    "devolverá la lista vacía.\n",
    "Notas: pudiera haber algún jugador sin minutos jugados y en este caso el promedio lo\n",
    "consideramos 0.\n",
    "Se valorará devolver la lista de nombres ordenada alfabéticamente.**"
   ]
  },
  {
   "cell_type": "code",
   "execution_count": 46,
   "metadata": {},
   "outputs": [],
   "source": [
    "def lstJugMin(lst, A, m):\n",
    "    \"\"\"\n",
    "    Dada una lista de un equipo de futbol (lista de jugadores), una edad A\n",
    "    y un valor m en minutos, devuelve una lista con los nombres de los jugadores\n",
    "    con edad de A años o más que hayan jugado en promedio al menos de m minutos.\n",
    "\n",
    "    Argumentos:\n",
    "        lst (list): Lista de listas, donde cada sublista es [nombre, edad, min1, min2, ...].\n",
    "        A (int): Edad mínima requerida.\n",
    "        m (int): Promedio de minutos mínimo requerido.\n",
    "\n",
    "    Devuelve:\n",
    "        list: Lista de nombres de los jugadores que cumplen los criterios,\n",
    "              ordenada alfabéticamente. Devuelve una lista vacía si no se encuentran jugadores.\n",
    "    \"\"\"\n",
    "    jugadores_seleccionados = []\n",
    "\n",
    "    for jugador in lst:\n",
    "        nombre = jugador[0]\n",
    "        edad = jugador[1]\n",
    "        minutos_jugados = jugador[2:]  # Slicing para obtener solo los minutos\n",
    "\n",
    "        # Verificar la edad\n",
    "        if edad >= A:\n",
    "            # Calcular el promedio de minutos\n",
    "            if minutos_jugados:\n",
    "                promedio_minutos = sum(minutos_jugados) / len(minutos_jugados)\n",
    "            else:\n",
    "                promedio_minutos = 0  # Si no hay minutos jugados, el promedio es 0\n",
    "\n",
    "            # Verificar el promedio de minutos\n",
    "            if promedio_minutos >= m:\n",
    "                jugadores_seleccionados.append(nombre)\n",
    "\n",
    "    # Ordenar la lista de nombres alfabéticamente\n",
    "    jugadores_seleccionados.sort()\n",
    "\n",
    "    return jugadores_seleccionados"
   ]
  },
  {
   "cell_type": "code",
   "execution_count": 47,
   "metadata": {},
   "outputs": [
    {
     "name": "stdout",
     "output_type": "stream",
     "text": [
      "lstJugMin(lst_equipo, 33, 80) es ['Lionel', 'Pique']\n",
      "lstJugMin(lst_equipo, 23, 80) es ['Koke', 'Lionel', 'Pique', 'Saul']\n",
      "lstJugMin(lst_equipo, 24, 90) es ['Pique', 'Saul']\n",
      "lstJugMin(lst_equipo, 34, 90) es []\n",
      "lstJugMin(lst_equipo, 50, 10) es []\n",
      "lstJugMin(lst_equipo, 20, 100) es []\n",
      "lstJugMin([['Javi', 28]], 25, 0) es ['Javi']\n"
     ]
    }
   ],
   "source": [
    "lst_equipo = [['Lionel', 33, 77, 90, 82, 75, 90, 65, 90, 80],\n",
    "              ['Ramos', 34, 88, 75, 81, 90, 74, 62],\n",
    "              ['Koke',27, 78, 89, 85, 76, 90, 65, 81, 90],\n",
    "              ['Saul', 24, 90, 90, 90, 90, 90, 90, 90],\n",
    "              ['Joao', 25, 24, 22, 45, 20, 25, 90, 60],\n",
    "              ['Odriozola', 25, 70, 45, 90, 75, 80],\n",
    "              ['Lenglet', 23, 45, 55, 50],\n",
    "              ['Pique', 33, 90, 90, 90, 90, 90, 90, 90, 90],\n",
    "              ['Araujo', 21, 28, 15, 45, 18, 25, 33],\n",
    "              ['Valverde', 22, 45, 55, 33, 40],\n",
    "              ['Rosales', 30, 75],\n",
    "              ['Piatti', 40, 80, 31, 40, 20]]\n",
    "\n",
    "print(f\"lstJugMin(lst_equipo, 33, 80) es {lstJugMin(lst_equipo, 33, 80)}\")\n",
    "print(f\"lstJugMin(lst_equipo, 23, 80) es {lstJugMin(lst_equipo, 23, 80)}\")\n",
    "print(f\"lstJugMin(lst_equipo, 24, 90) es {lstJugMin(lst_equipo, 24, 90)}\")\n",
    "print(f\"lstJugMin(lst_equipo, 34, 90) es {lstJugMin(lst_equipo, 34, 90)}\")\n",
    "print(f\"lstJugMin(lst_equipo, 50, 10) es {lstJugMin(lst_equipo, 50, 10)}\") # Sin jugadores que cumplan la edad\n",
    "print(f\"lstJugMin(lst_equipo, 20, 100) es {lstJugMin(lst_equipo, 20, 100)}\") # Sin jugadores que cumplan el promedio\n",
    "print(f\"lstJugMin([['Javi', 28]], 25, 0) es {lstJugMin([['Javi', 28]], 25, 0)}\") # Jugador con 0 minutos"
   ]
  }
 ],
 "metadata": {
  "kernelspec": {
   "display_name": "Python 3",
   "language": "python",
   "name": "python3"
  },
  "language_info": {
   "codemirror_mode": {
    "name": "ipython",
    "version": 3
   },
   "file_extension": ".py",
   "mimetype": "text/x-python",
   "name": "python",
   "nbconvert_exporter": "python",
   "pygments_lexer": "ipython3",
   "version": "3.8.5"
  },
  "toc": {
   "base_numbering": 1,
   "nav_menu": {},
   "number_sections": true,
   "sideBar": true,
   "skip_h1_title": false,
   "title_cell": "Table of Contents",
   "title_sidebar": "Contents",
   "toc_cell": true,
   "toc_position": {},
   "toc_section_display": true,
   "toc_window_display": true
  }
 },
 "nbformat": 4,
 "nbformat_minor": 4
}
