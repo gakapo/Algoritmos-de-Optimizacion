{
  "cells": [
    {
      "cell_type": "markdown",
      "metadata": {
        "id": "view-in-github",
        "colab_type": "text"
      },
      "source": [
        "<a href=\"https://colab.research.google.com/github/gakapo/Algoritmos-de-Optimizacion/blob/main/Asier_Esparza_Irazabal_Seminario_Algoritmos.ipynb\" target=\"_parent\"><img src=\"https://colab.research.google.com/assets/colab-badge.svg\" alt=\"Open In Colab\"/></a>"
      ]
    },
    {
      "cell_type": "markdown",
      "metadata": {
        "toc": true,
        "id": "5jY_zjJGcxg2"
      },
      "source": [
        "<h1>Table of Contents<span class=\"tocSkip\"></span></h1>\n",
        "<div class=\"toc\"><ul class=\"toc-item\"><li><span><a href=\"#Algoritmos-de-optimización---Seminario\" data-toc-modified-id=\"Algoritmos-de-optimización---Seminario-1\"><span class=\"toc-item-num\">1&nbsp;&nbsp;</span>Algoritmos de optimización - Seminario<br><br></a></span><ul class=\"toc-item\"><li><span><a href=\"#(*)¿Cuantas-posibilidades-hay-sin-tener-en-cuenta-las-restricciones?Respuesta\" data-toc-modified-id=\"(*)¿Cuantas-posibilidades-hay-sin-tener-en-cuenta-las-restricciones?Respuesta-1.1\"><span class=\"toc-item-num\">1.1&nbsp;&nbsp;</span>(*)¿Cuantas posibilidades hay sin tener en cuenta las restricciones?<br><br>Respuesta</a></span></li><li><span><a href=\"#¿Cuantas-posibilidades-hay-teniendo-en-cuenta-todas-las-restricciones.Respuesta\" data-toc-modified-id=\"¿Cuantas-posibilidades-hay-teniendo-en-cuenta-todas-las-restricciones.Respuesta-1.2\"><span class=\"toc-item-num\">1.2&nbsp;&nbsp;</span>¿Cuantas posibilidades hay teniendo en cuenta todas las restricciones.<br><br>Respuesta</a></span></li><li><span><a href=\"#Modelo-para-el-espacio-de-soluciones(*)-¿Cual-es-la-estructura-de-datos-que-mejor-se-adapta-al-problema?-Argumentalo.(Es-posible-que-hayas-elegido-una-al-principio-y-veas-la-necesidad-de-cambiar,-arguméntalo)Respuesta\" data-toc-modified-id=\"Modelo-para-el-espacio-de-soluciones(*)-¿Cual-es-la-estructura-de-datos-que-mejor-se-adapta-al-problema?-Argumentalo.(Es-posible-que-hayas-elegido-una-al-principio-y-veas-la-necesidad-de-cambiar,-arguméntalo)Respuesta-1.3\"><span class=\"toc-item-num\">1.3&nbsp;&nbsp;</span>Modelo para el espacio de soluciones<br>(*) ¿Cual es la estructura de datos que mejor se adapta al problema? Argumentalo.(Es posible que hayas elegido una al principio y veas la necesidad de cambiar, arguméntalo)<br><br>Respuesta</a></span></li><li><span><a href=\"#Según-el-modelo-para-el-espacio-de-soluciones(*)¿Cual-es-la-función-objetivo?Respuesta\" data-toc-modified-id=\"Según-el-modelo-para-el-espacio-de-soluciones(*)¿Cual-es-la-función-objetivo?Respuesta-1.4\"><span class=\"toc-item-num\">1.4&nbsp;&nbsp;</span>Según el modelo para el espacio de soluciones<br>(*)¿Cual es la función objetivo?<br><br>Respuesta</a></span></li><li><span><a href=\"#Según-el-modelo-para-el-espacio-de-soluciones-(*)¿Es-un-problema-de-maximización-o-minimización?Respuesta\" data-toc-modified-id=\"Según-el-modelo-para-el-espacio-de-soluciones-(*)¿Es-un-problema-de-maximización-o-minimización?Respuesta-1.5\"><span class=\"toc-item-num\">1.5&nbsp;&nbsp;</span>Según el modelo para el espacio de soluciones<br> (*)¿Es un problema de maximización o minimización?<br><br>Respuesta</a></span></li><li><span><a href=\"#Diseña-un-algoritmo-para-resolver-el-problema-por-fuerza-brutaRespuesta\" data-toc-modified-id=\"Diseña-un-algoritmo-para-resolver-el-problema-por-fuerza-brutaRespuesta-1.6\"><span class=\"toc-item-num\">1.6&nbsp;&nbsp;</span>Diseña un algoritmo para resolver el problema por fuerza bruta<br><br>Respuesta</a></span></li><li><span><a href=\"#Calcula-la-complejidad-del-algoritmo-por-fuerza-brutaRespuesta\" data-toc-modified-id=\"Calcula-la-complejidad-del-algoritmo-por-fuerza-brutaRespuesta-1.7\"><span class=\"toc-item-num\">1.7&nbsp;&nbsp;</span>Calcula la complejidad del algoritmo por fuerza bruta<br><br>Respuesta</a></span></li><li><span><a href=\"#(*)Diseña-un-algoritmo-que-mejore-la-complejidad-del-algortimo-por-fuerza-bruta.-Argumenta-porque-crees-que-mejora-el-algoritmo-por-fuerza-brutaRespuesta\" data-toc-modified-id=\"(*)Diseña-un-algoritmo-que-mejore-la-complejidad-del-algortimo-por-fuerza-bruta.-Argumenta-porque-crees-que-mejora-el-algoritmo-por-fuerza-brutaRespuesta-1.8\"><span class=\"toc-item-num\">1.8&nbsp;&nbsp;</span>(*)Diseña un algoritmo que mejore la complejidad del algortimo por fuerza bruta. Argumenta porque crees que mejora el algoritmo por fuerza bruta<br><br>Respuesta</a></span></li><li><span><a href=\"#(*)Calcula-la-complejidad-del-algoritmoRespuesta\" data-toc-modified-id=\"(*)Calcula-la-complejidad-del-algoritmoRespuesta-1.9\"><span class=\"toc-item-num\">1.9&nbsp;&nbsp;</span>(*)Calcula la complejidad del algoritmo<br><br>Respuesta</a></span></li><li><span><a href=\"#¿Qué-valor-máximo-y-mínimo-se-pueden-obtener-según-las-condiciones-del-problema?Respuesta\" data-toc-modified-id=\"¿Qué-valor-máximo-y-mínimo-se-pueden-obtener-según-las-condiciones-del-problema?Respuesta-1.10\"><span class=\"toc-item-num\">1.10&nbsp;&nbsp;</span>¿Qué valor máximo y mínimo se pueden obtener según las condiciones del problema?<br><br>Respuesta</a></span></li><li><span><a href=\"#¿Es-posible-encontrar-todos-los-valores-enteros-posibles-entre-dicho-mínimo-y-máximo?Respuesta\" data-toc-modified-id=\"¿Es-posible-encontrar-todos-los-valores-enteros-posibles-entre-dicho-mínimo-y-máximo?Respuesta-1.11\"><span class=\"toc-item-num\">1.11&nbsp;&nbsp;</span>¿Es posible encontrar todos los valores enteros posibles entre dicho mínimo y máximo?<br><br>Respuesta</a></span></li><li><span><a href=\"#Según-el-problema-(y-tenga-sentido),-diseña-un-juego-de-datos-de-entrada-aleatoriosRespuesta\" data-toc-modified-id=\"Según-el-problema-(y-tenga-sentido),-diseña-un-juego-de-datos-de-entrada-aleatoriosRespuesta-1.12\"><span class=\"toc-item-num\">1.12&nbsp;&nbsp;</span>Según el problema (y tenga sentido), diseña un juego de datos de entrada aleatorios<br><br>Respuesta</a></span></li><li><span><a href=\"#Aplica-el-algoritmo-al-juego-de-datos-generadoRespuesta\" data-toc-modified-id=\"Aplica-el-algoritmo-al-juego-de-datos-generadoRespuesta-1.13\"><span class=\"toc-item-num\">1.13&nbsp;&nbsp;</span>Aplica el algoritmo al juego de datos generado<br><br>Respuesta</a></span></li></ul></li></ul></div>"
      ]
    },
    {
      "cell_type": "markdown",
      "metadata": {
        "id": "hVbXYX-RfPWh"
      },
      "source": [
        "# Algoritmos de optimización - Seminario<br><br>\n",
        "\n",
        "**Nombre y Apellidos**:   Asier Esparza Irazabal<br>\n",
        "\n",
        "**Url**: https://colab.research.google.com/drive/1Ht5UIn2_ge102AlylCqfPTkjV3qv7MK5?hl=es#scrollTo=gnNfBCPlcxhA <br>\n",
        "https://github.com/gakapo/Algoritmos-de-Optimizacion/blob/main/Asier_Esparza_Irazabal_Seminario_Algoritmos.ipynb\n",
        "\n",
        "**Problema**:\n",
        "\n",
        "    3. Combinar cifras y operaciones<br>\n",
        "\n",
        "**Descripción del problema**:\n",
        "\n",
        "    • El problema consiste en analizar el siguiente problema y diseñar un algoritmo que lo resuelva.\n",
        "\n",
        "    • Disponemos de las 9 cifras del 1 al 9 (excluimos el cero) y de los 4 signos básicos de las\n",
        "    operaciones fundamentales: suma(+), resta(-), multiplicación(*) y división(/)\n",
        "\n",
        "    • Debemos combinarlos alternativamente sin repetir ninguno de ellos para obtener una\n",
        "    cantidad dada. Un ejemplo sería para obtener el 4:\n",
        "    4+2-6/3*1 = 4\n",
        "\n",
        "    • Debe analizarse el problema para encontrar todos los valores enteros posibles planteando las\n",
        "    siguientes cuestiones:\n",
        "    - ¿Qué valor máximo y mínimo se pueden obtener según las condiciones del problema?\n",
        "    - ¿Es posible encontrar todos los valores enteros posibles entre dicho mínimo y máximo ?\n",
        "\n",
        "    • Nota: Es posible usar la función de python “eval” para evaluar una expresión:\n",
        "\n",
        "....\n",
        "\n",
        "**(*) La respuesta es obligatoria**                                        "
      ]
    },
    {
      "cell_type": "markdown",
      "metadata": {
        "id": "RHBoeegwcxg7"
      },
      "source": [
        "## (*)¿Cuantas posibilidades hay sin tener en cuenta las restricciones?<br><br>Respuesta\n"
      ]
    },
    {
      "cell_type": "markdown",
      "metadata": {
        "id": "Z_tVgI3Wcxg7"
      },
      "source": [
        "Si no se tienen en cuenta las restricciones (es decir, si se permite la repetición de dígitos y operadores),\n",
        "el número total de combinaciones posibles es de 15.116.544.\n",
        "\n",
        "**Cálculo de Posibilidades**\n",
        "El cálculo se basa en el principio de multiplicación, ya que cada elección es independiente de la anterior.\n",
        "\n",
        "1. Posibilidades para los Dígitos:\n",
        "\n",
        "    • Hay 5 posiciones para los dígitos en la expresión D O D O D O D O D.\n",
        "\n",
        "    • Para cada posición, hay 9 opciones disponibles (los dígitos del 1 al 9), ya que la repetición está permitida.\n",
        "\n",
        "    • Cálculo: 9·9·9·9·9 = $9^5$ = 59.049\n",
        "\n",
        "2. Posibilidades para los Operadores:\n",
        "\n",
        "    • Hay 4 posiciones para los operadores.\n",
        "\n",
        "    • Para cada posición, hay 4 opciones disponibles (+, -, *, /).\n",
        "\n",
        "    • Cálculo: 4·4·4·4 = $4^4$ = 256\n",
        "\n",
        "3. Total de Expresiones Posibles:\n",
        "\n",
        "    • Para obtener el total, multiplicamos las posibilidades de los dígitos por las de los operadores.\n",
        "\n",
        "    • Total: 59.049·256 = 15.116.544"
      ]
    },
    {
      "cell_type": "markdown",
      "metadata": {
        "id": "3_-exlrTgLd-"
      },
      "source": [
        "## ¿Cuantas posibilidades hay teniendo en cuenta todas las restricciones.<br><br>Respuesta\n"
      ]
    },
    {
      "cell_type": "markdown",
      "metadata": {
        "id": "iq6Fe32MgpDX"
      },
      "source": [
        "Podemos calcular el número total de expresiones únicas a evaluar teniendo en cuenta todas\n",
        "las restricciones de la siguiente manera:\n",
        "\n",
        "    • Número de formas de elegir y ordenar 5 dígitos de 9:\n",
        "\n",
        "P(9,5) = $\\frac{9!}{(9-5)!}$ = 9·8·7·6·5 = 15.120\n",
        "    \n",
        "    • Número de formas de ordenar los 4 operadores:\n",
        "\n",
        "P(4,4) = 4! = 4·3·2·1 = 24\n",
        "\n",
        "    • Multiplicando las dos anteriores obtenemos el total de expresiones a evaluar:\n",
        "\n",
        "15.120·24 = 362.880\n",
        "\n",
        "Este número es mucho menor que el resultado 15.116.544 anterior y lo suficientemente pequeño para ser explorado por completo con un ordenador moderno, haciendo viable un algoritmo de fuerza bruta."
      ]
    },
    {
      "cell_type": "markdown",
      "metadata": {
        "id": "dzynfVJahHoY"
      },
      "source": [
        "## Modelo para el espacio de soluciones<br>(*) ¿Cual es la estructura de datos que mejor se adapta al problema? Argumentalo.(Es posible que hayas elegido una al principio y veas la necesidad de cambiar, arguméntalo)<br><br>Respuesta\n"
      ]
    },
    {
      "cell_type": "markdown",
      "metadata": {
        "id": "38c-7-ejhJmA"
      },
      "source": [
        "La estructura de datos que mejor se adapta al problema es una combinación de tres tipos:\n",
        "\n",
        "**Listas (o Arrays)** para los elementos de origen.\n",
        "\n",
        "**Cadenas de texto (Strings)** para la construcción de cada expresión.\n",
        "\n",
        "**Un Conjunto (Set)** para almacenar los resultados finales únicos.\n",
        "\n",
        "\n",
        "**ARGUMENTACIÓN Y JUSTIFICACIÓN**\n",
        "\n",
        "La elección de esta combinación de estructuras se debe a la naturaleza de cada fase del problema: la generación de combinaciones, la evaluación y el almacenamiento de resultados.\n",
        "\n",
        "**1. Para los Elementos de Origen:** Lista\n",
        "\n",
        "**Elección:** dígitos = [1, 2, 3, 4, 5, 6, 7, 8, 9] y operadores = ['+', '-', '*', '/'].\n",
        "\n",
        "**Argumento:** Una lista es la estructura ideal para contener los elementos base porque la mayoría de las\n",
        "librerías estándar para generar permutaciones (como itertools.permutations en Python) operan eficientemente\n",
        "sobre secuencias como las listas. Es una estructura simple, ordenada y perfecta para ser la fuente de las\n",
        "combinaciones.\n",
        "\n",
        "**2. Para la Expresión a Evaluar: Cadena de texto**\n",
        "\n",
        "**Elección:** Construir una cadena como \"8 * 9 + 7 - 2 / 1\".\n",
        "\n",
        "**Argumento:** La forma más pragmática de resolver la expresión es usar un evaluador matemático incorporado\n",
        "en el lenguaje de programación. Estos evaluadores (eval() en Python, por ejemplo) suelen tomar una cadena de\n",
        "texto como entrada y ya están optimizados para manejar correctamente la jerarquía de operaciones (PEMDAS).\n",
        "Crear una estructura más compleja, como un árbol de expresión, sería innecesariamente complicado para este\n",
        "problema. La cadena es simple de construir mediante concatenación y es directamente usable.\n",
        "\n",
        "**3. Para los Resultados Finales: Conjunto**\n",
        "\n",
        "**Elección:** resultados_enteros = set().\n",
        "\n",
        "**Argumento:** Esta es la elección más crítica y eficiente para el objetivo final.\n",
        "\n",
        "    Garantiza Unicidad: El problema pide encontrar todos los valores enteros posibles, lo que implica que cada valor debe contarse una sola vez. Un conjunto, por su definición matemática, no permite elementos duplicados. Al añadir un resultado, si ya existe, la operación simplemente se ignora.\n",
        "\n",
        "    Eficiencia: La inserción y la comprobación de existencia en un conjunto tienen una complejidad temporal promedio de O(1), lo que es extremadamente rápido."
      ]
    },
    {
      "cell_type": "markdown",
      "metadata": {
        "id": "7Z9U2W7bi-XS"
      },
      "source": [
        "## Según el modelo para el espacio de soluciones<br>(*)¿Cual es la función objetivo?<br><br>Respuesta\n",
        "\n",
        "\n"
      ]
    },
    {
      "cell_type": "markdown",
      "metadata": {
        "id": "cUFzP-o7cxg9"
      },
      "source": [
        "En este problema no existe una función objetivo en el sentido tradicional de la optimización,\n",
        "es decir, una función para maximizar o minimizar. Se trata de un problema de búsqueda y\n",
        "enumeración de soluciones.\n",
        "\n",
        "El objetivo no es encontrar un valor \"óptimo\", sino determinar qué expresiones cumplen con\n",
        "una condición de validez.\n",
        "\n",
        "**La Condición de Validez (La \"Función Objetivo\")**\n",
        "\n",
        "La \"función objetivo\" en este contexto es en realidad un filtro o una condición booleana\n",
        "que una expresión debe satisfacer para ser considerada una solución válida.\n",
        "\n",
        "La función se puede definir como EsSolucionValida(expresión):\n",
        "\n",
        "• **Entrada:** Una expresión generada por una combinación de 5 dígitos y 4 operadores (ej: \"8*9+2/1\").\n",
        "\n",
        "• **Proceso:**\n",
        "\n",
        "1. Evaluar la expresión para obtener su resultado numérico, R.\n",
        "\n",
        "2. Comprobar si R es un número entero.\n",
        "\n",
        "• **Salida:** Devuelve True si R es un entero (R ∈ ℤ), y False en caso contrario.\n",
        "\n",
        "Por lo tanto, el objetivo es encontrar y almacenar todas las expresiones para las cuales esta función devuelve True"
      ]
    },
    {
      "cell_type": "markdown",
      "metadata": {
        "id": "pDA-rg3Gj5Lz"
      },
      "source": [
        "## Según el modelo para el espacio de soluciones<br> (*)¿Es un problema de maximización o minimización?<br><br>Respuesta"
      ]
    },
    {
      "cell_type": "markdown",
      "metadata": {
        "id": "TJJ9QwNscxg9"
      },
      "source": [
        "No, no es un problema de maximización ni de minimización, sino un problema de búsqueda y enumeración de soluciones.\n",
        "\n",
        "El objetivo no es encontrar un único valor (el más alto o el más bajo), sino identificar y recolectar el conjunto\n",
        "completo de todos los resultados enteros que cumplen la condición, aunque dentro de los resultados encontramos un máximo\n",
        "y un mínimo"
      ]
    },
    {
      "cell_type": "markdown",
      "metadata": {
        "id": "rlnTYgY1j6I2"
      },
      "source": [
        "## Diseña un algoritmo para resolver el problema por fuerza bruta<br><br>Respuesta"
      ]
    },
    {
      "cell_type": "markdown",
      "metadata": {
        "id": "S-Fg9otCcxg-"
      },
      "source": [
        "**ALGORITMO POR FUERZA BRUTA**\n",
        "\n",
        "La estrategia es generar sistemáticamente todas las expresiones posibles y quedarse solo con aquellas cuyo resultado es un número entero.\n",
        "\n",
        "**1. Preparación:**\n",
        "\n",
        "   • **Importa itertools:** Una librería de Python muy eficiente que se usa para crear permutaciones.\n",
        "\n",
        "   • **Define las bases:** Crea las listas de dígitos [1, ..., 9] y operadores ['+', ..., '/'].\n",
        "\n",
        "   • **Crea un contenedor:** Inicializa un conjunto (set) vacío, que servirá para guardar los resultados finales asegurando que no haya duplicados.\n",
        "    \n",
        "\n",
        "**2. Generación de Combinaciones (Bucles Anidados):**\n",
        "\n",
        "   • **Bucle Externo:** Usa itertools.permutations para crear la primera permutación de 5 dígitos (ej: (8, 9, 7, 2, 1)).\n",
        "\n",
        "   • **Bucle Interno:** Para esa combinación de dígitos, usa itertools.permutations otra vez para crear la primera permutación de los 4 operadores (ej: ('*', '+', '-', '/')).\n",
        "\n",
        "**3. Construcción y Evaluación:**\n",
        "\n",
        "   • **Crea la Expresión:** Con los dígitos y operadores de los bucles, construye una cadena de texto que representa la operación matemática (ej: \"8*9+7-2/1\").\n",
        "\n",
        "   • **Calcula el Resultado:** Usa la función eval() para interpretar esa cadena y calcular su valor numérico, respetando la jerarquía de operaciones (PEMDAS).\n",
        "\n",
        "   • **Filtra el Resultado:** Comprueba si el valor calculado es un número entero (por ejemplo, si 77.0 es igual a 77).\n",
        "\n",
        "   • **Guarda la Solución:** Si el resultado es un entero, lo añade al conjunto. Si ese número ya estaba, el conjunto simplemente lo ignora.\n",
        "\n",
        "**4. Repetición y Finalización:**\n",
        "\n",
        "   • El algoritmo repite el paso 3 para todas las combinaciones de operadores. Luego, el bucle externo toma la siguiente permutación de dígitos y se repite todo el proceso.\n",
        "\n",
        "   • Esto continúa hasta haber probado las 362,880 combinaciones posibles.\n",
        "\n",
        "   • Finalmente, convierte el conjunto de resultados únicos en una lista, la ordena de menor a mayor y la imprime en pantalla."
      ]
    },
    {
      "cell_type": "code",
      "execution_count": 1,
      "metadata": {
        "id": "CJb5sQ0qkENy",
        "colab": {
          "base_uri": "https://localhost:8080/"
        },
        "outputId": "bb00707c-90e8-46ff-990a-4affc9fd1dbd"
      },
      "outputs": [
        {
          "output_type": "stream",
          "name": "stdout",
          "text": [
            "Se encontraron 147 valores enteros únicos.\n",
            "---\n",
            "[-69, -68, -67, -66, -65, -64, -63, -62, -61, -60, -59, -58, -57, -56, -55, -54, -53, -52, -51, -50, -49, -48, -47, -46, -45, -44, -43, -42, -41, -40, -39, -38, -37, -36, -35, -34, -33, -32, -31, -30, -29, -28, -27, -26, -25, -24, -23, -22, -21, -20, -19, -18, -17, -16, -15, -14, -13, -12, -11, -10, -9, -8, -7, -6, -5, -4, -3, -2, -1, 0, 1, 2, 3, 4, 5, 6, 7, 8, 9, 10, 11, 12, 13, 14, 15, 16, 17, 18, 19, 20, 21, 22, 23, 24, 25, 26, 27, 28, 29, 30, 31, 32, 33, 34, 35, 36, 37, 38, 39, 40, 41, 42, 43, 44, 45, 46, 47, 48, 49, 50, 51, 52, 53, 54, 55, 56, 57, 58, 59, 60, 61, 62, 63, 64, 65, 66, 67, 68, 69, 70, 71, 72, 73, 74, 75, 76, 77]\n",
            "Tiempo de ejecución: 5.9418 segundos.\n"
          ]
        }
      ],
      "source": [
        "import itertools\n",
        "import time\n",
        "\n",
        "# 1. Inicialización\n",
        "start_time = time.time()  # Iniciar cronómetro para medir el rendimiento\n",
        "digitos_base = [1, 2, 3, 4, 5, 6, 7, 8, 9]\n",
        "operadores_base = ['+', '-', '*', '/']\n",
        "resultados_enteros = set()\n",
        "\n",
        "# 2. Bucle de permutaciones de dígitos\n",
        "for p_digitos in itertools.permutations(digitos_base, 5):\n",
        "\n",
        "    # 3. Bucle de permutaciones de operadores\n",
        "    for p_operadores in itertools.permutations(operadores_base):\n",
        "\n",
        "        # 4. Construcción de la expresión como una cadena de texto\n",
        "        d1, d2, d3, d4, d5 = p_digitos\n",
        "        o1, o2, o3, o4 = p_operadores\n",
        "\n",
        "        expresion = f\"{d1}{o1}{d2}{o2}{d3}{o3}{d4}{o4}{d5}\"\n",
        "\n",
        "        # 5. Evaluación y Verificación\n",
        "        try:\n",
        "            resultado = eval(expresion)\n",
        "            # Se comprueba si el resultado es un número entero\n",
        "            if resultado == int(resultado):\n",
        "                # 6. Almacenamiento del resultado\n",
        "                resultados_enteros.add(int(resultado))\n",
        "        except:\n",
        "            # Se ignoran los errores (por ejemplo, divisiones no exactas)\n",
        "            pass\n",
        "\n",
        "# 7. Finalización y presentación de resultados\n",
        "end_time = time.time()\n",
        "solucion_final = sorted(list(resultados_enteros))\n",
        "\n",
        "print(f\"Se encontraron {len(solucion_final)} valores enteros únicos.\")\n",
        "print(\"---\")\n",
        "print(solucion_final)\n",
        "print(f\"Tiempo de ejecución: {end_time - start_time:.4f} segundos.\")"
      ]
    },
    {
      "cell_type": "markdown",
      "metadata": {
        "id": "tgrnsC2nkFa8"
      },
      "source": [
        "## Calcula la complejidad del algoritmo por fuerza bruta<br><br>Respuesta"
      ]
    },
    {
      "cell_type": "markdown",
      "metadata": {
        "id": "rvZWwL-ckRST"
      },
      "source": [
        "Aunque el algoritmo realiza un número considerable de operaciones (362.880 combinaciones), la complejidad\n",
        "en notación Big O se mide en relación con el tamaño de una entrada variable 'n'.\n",
        "\n",
        "En este problema, no existe una entrada variable:\n",
        "\n",
        "    • El número de dígitos a elegir es siempre de un conjunto de 9.\n",
        "\n",
        "    • El número de operadores es siempre de un conjunto de 4.\n",
        "\n",
        "    • La longitud de la expresión es siempre de 5 dígitos y 4 operadores.\n",
        "\n",
        "Como todos los parámetros son fijos y constantes, el número total de operaciones que el algoritmo debe realizar\n",
        "es también una constante (15.120 · 24 = 362.880). El tiempo de ejecución no crecerá ni cambiará, sin importar\n",
        "cuántas veces se ejecute el programa.\n",
        "\n",
        "Por lo tanto, al no depender de una variable n que pueda tender a infinito, la complejidad se define como O(1)."
      ]
    },
    {
      "cell_type": "markdown",
      "metadata": {
        "id": "txbrmLmskReM"
      },
      "source": [
        "## (*)Diseña un algoritmo que mejore la complejidad del algortimo por fuerza bruta. Argumenta porque crees que mejora el algoritmo por fuerza bruta<br><br>Respuesta"
      ]
    },
    {
      "cell_type": "markdown",
      "metadata": {
        "id": "m1eyM21Vkabg"
      },
      "source": [
        "No es posible diseñar un algoritmo que mejore la complejidad asintótica O(1), ya que es la más\n",
        "eficiente que existe.\n",
        "\n",
        "Sin embargo, se puede diseñar un algoritmo mejorado que, aunque sigue siendo O(1), reduce\n",
        "drásticamente el número real de operaciones, haciéndolo mucho más rápido en la práctica.\n",
        "Esto se logra mediante la poda del espacio de búsqueda.\n",
        "\n",
        "**ALGORITMO MEJORADO POR PODA**\n",
        "\n",
        "La idea clave es evitar realizar la operación más costosa (evaluar la expresión) en combinaciones que sabemos de antemano que no pueden producir un resultado entero. La principal fuente de resultados no enteros es la división.\n",
        "\n",
        "El algoritmo mejorado añade una condición de verificación antes de evaluar:\n",
        "\n",
        "**1. Inicialización y Bucles:** Idéntico al algoritmo de fuerza bruta (se preparan los datos y se inician los bucles de permutaciones de dígitos y operadores).\n",
        "\n",
        "**2. Paso de Poda (El Aporte Clave):**\n",
        "\n",
        "• Una vez que tienes una permutación de dígitos y operadores, localiza el operador de división (/).\n",
        "\n",
        "• Aplica una regla de divisibilidad: La única forma de que una división no exacta (como 5/2) se convierta en un entero es que esté multiplicada por un número adecuado (ej: 5/2 * 4 = 10).\n",
        "\n",
        "•Condición de Poda: Si el operador de división NO está directamente al lado de un operador de multiplicación (*), entonces la división DEBE ser exacta por sí misma.\n",
        "\n",
        "    - Verifica: ¿Es el dividendo divisible por el divisor (usando el operador módulo %)?\n",
        "\n",
        "    - Acción: Si la división no es exacta bajo esta condición, descarta esta permutación inmediatamente y salta a la siguiente, sin necesidad de construir la cadena ni evaluarla.\n",
        "\n",
        "**3. Construcción y Evaluación:** Solo para las permutaciones que superan el filtro de poda, construye la cadena de texto y evalúala.\n",
        "\n",
        "**4. Almacenamiento y Finalización:** Idéntico al algoritmo original.\n",
        "\n",
        "\n",
        "**ARGUMENTO DE LA MEJORA**\n",
        "\n",
        "Este algoritmo es superior al de fuerza bruta porque, aunque la complejidad teórica no cambia, la eficiencia en el mundo real es mucho mayor.\n",
        "\n",
        "• **Evita Operaciones Costosas:** Una comprobación de divisibilidad (7 % 3 != 0) es computacionalmente miles de veces más rápida que construir una cadena de texto y pasársela a una función de evaluación (eval()), que debe analizar la sintaxis y la jerarquía de operaciones.\n",
        "\n",
        "• **Reducción Masiva de Casos:** La gran mayoría de las permutaciones que contienen una división no la tienen junto a una multiplicación, y la división no es exacta. Por ejemplo, de las 360 permutaciones de operadores posibles para la expresión d1 o1 d2 o2 d3 / d4 o4 d5, solo una fracción muy pequeña tendrá un * al lado de la /. Todas las demás son candidatas a ser podadas.\n",
        "\n"
      ]
    },
    {
      "cell_type": "code",
      "execution_count": 2,
      "metadata": {
        "colab": {
          "base_uri": "https://localhost:8080/"
        },
        "id": "gnNfBCPlcxhA",
        "outputId": "1735fb29-5a06-4753-a192-b13d61701fd3"
      },
      "outputs": [
        {
          "output_type": "stream",
          "name": "stdout",
          "text": [
            "--- Resultados del Algoritmo Mejorado ---\n",
            "Se encontraron 147 valores enteros únicos.\n",
            "[-69, -68, -67, -66, -65, -64, -63, -62, -61, -60, -59, -58, -57, -56, -55, -54, -53, -52, -51, -50, -49, -48, -47, -46, -45, -44, -43, -42, -41, -40, -39, -38, -37, -36, -35, -34, -33, -32, -31, -30, -29, -28, -27, -26, -25, -24, -23, -22, -21, -20, -19, -18, -17, -16, -15, -14, -13, -12, -11, -10, -9, -8, -7, -6, -5, -4, -3, -2, -1, 0, 1, 2, 3, 4, 5, 6, 7, 8, 9, 10, 11, 12, 13, 14, 15, 16, 17, 18, 19, 20, 21, 22, 23, 24, 25, 26, 27, 28, 29, 30, 31, 32, 33, 34, 35, 36, 37, 38, 39, 40, 41, 42, 43, 44, 45, 46, 47, 48, 49, 50, 51, 52, 53, 54, 55, 56, 57, 58, 59, 60, 61, 62, 63, 64, 65, 66, 67, 68, 69, 70, 71, 72, 73, 74, 75, 76, 77]\n",
            "\n",
            "--- Estadísticas de Rendimiento ---\n",
            "Total de combinaciones posibles: 362,880\n",
            "Combinaciones podadas (ignoradas sin evaluar): 146160\n",
            "Combinaciones evaluadas realmente: 216720\n",
            "Tiempo de ejecución: 3.2198 segundos.\n"
          ]
        }
      ],
      "source": [
        "import itertools\n",
        "import time\n",
        "\n",
        "# --- 1. Inicialización ---\n",
        "start_time = time.time()  # Iniciar cronómetro para medir el rendimiento\n",
        "digitos_base = [1, 2, 3, 4, 5, 6, 7, 8, 9]\n",
        "operadores_base = ['+', '-', '*', '/']\n",
        "resultados_enteros = set()\n",
        "\n",
        "# Contadores para estadísticas\n",
        "permutaciones_evaluadas = 0\n",
        "permutaciones_podadas = 0\n",
        "\n",
        "# --- 2. Bucles de Generación ---\n",
        "for p_digitos in itertools.permutations(digitos_base, 5):\n",
        "    for p_operadores in itertools.permutations(operadores_base):\n",
        "\n",
        "        # --- 3. Paso de Poda ---\n",
        "        # El núcleo de la optimización\n",
        "        try:\n",
        "            div_idx = p_operadores.index('/')\n",
        "            # Comprueba si la división está al lado de una multiplicación\n",
        "            es_reparable = (div_idx > 0 and p_operadores[div_idx - 1] == '*') or \\\n",
        "                             (div_idx < 3 and p_operadores[div_idx + 1] == '*')\n",
        "\n",
        "            # Si no es reparable, la división debe ser exacta por sí misma\n",
        "            if not es_reparable:\n",
        "                dividendo = p_digitos[div_idx]\n",
        "                divisor = p_digitos[div_idx + 1]\n",
        "                if dividendo % divisor != 0:\n",
        "                    permutaciones_podadas += 1\n",
        "                    continue  # Salta a la siguiente permutación, evitando la evaluación\n",
        "        except IndexError:\n",
        "            # Esta excepción podría ocurrir si la lógica de índices fuera incorrecta.\n",
        "            # Es una medida de seguridad.\n",
        "            continue\n",
        "\n",
        "        # --- 4. Construcción y Evaluación ---\n",
        "        # Este código solo se ejecuta si la permutación no fue podada\n",
        "        permutaciones_evaluadas += 1\n",
        "\n",
        "        expresion = \"\".join(f\"{d}{o}\" for d, o in zip(p_digitos, p_operadores)) + str(p_digitos[-1])\n",
        "\n",
        "        try:\n",
        "            resultado = eval(expresion)\n",
        "            if resultado == int(resultado):\n",
        "                resultados_enteros.add(int(resultado))\n",
        "        except:\n",
        "            # Ignorar otros posibles errores de evaluación\n",
        "            pass\n",
        "\n",
        "# --- 5. Finalización y Resultados ---\n",
        "end_time = time.time()\n",
        "solucion_final = sorted(list(resultados_enteros))\n",
        "\n",
        "print(\"--- Resultados del Algoritmo Mejorado ---\")\n",
        "print(f\"Se encontraron {len(solucion_final)} valores enteros únicos.\")\n",
        "print(solucion_final)\n",
        "print(\"\\n--- Estadísticas de Rendimiento ---\")\n",
        "print(f\"Total de combinaciones posibles: 362,880\")\n",
        "print(f\"Combinaciones podadas (ignoradas sin evaluar): {permutaciones_podadas}\")\n",
        "print(f\"Combinaciones evaluadas realmente: {permutaciones_evaluadas}\")\n",
        "print(f\"Tiempo de ejecución: {end_time - start_time:.4f} segundos.\")"
      ]
    },
    {
      "cell_type": "markdown",
      "metadata": {
        "id": "eGDB4K6uk1iN"
      },
      "source": [
        "## (*)Calcula la complejidad del algoritmo<br><br>Respuesta"
      ]
    },
    {
      "cell_type": "markdown",
      "metadata": {
        "id": "pF51u5JNcxhA"
      },
      "source": [
        "Tal y como se ha argumentado en la pregunta anterior la complejidad de este algoritmo también es O(1)."
      ]
    },
    {
      "cell_type": "code",
      "execution_count": 2,
      "metadata": {
        "id": "zD92c92AcxhA"
      },
      "outputs": [],
      "source": []
    }
  ],
  "metadata": {
    "colab": {
      "provenance": [],
      "include_colab_link": true
    },
    "kernelspec": {
      "display_name": "Python 3",
      "language": "python",
      "name": "python3"
    },
    "language_info": {
      "codemirror_mode": {
        "name": "ipython",
        "version": 3
      },
      "file_extension": ".py",
      "mimetype": "text/x-python",
      "name": "python",
      "nbconvert_exporter": "python",
      "pygments_lexer": "ipython3",
      "version": "3.8.5"
    },
    "toc": {
      "base_numbering": 1,
      "nav_menu": {},
      "number_sections": true,
      "sideBar": true,
      "skip_h1_title": false,
      "title_cell": "Table of Contents",
      "title_sidebar": "Contents",
      "toc_cell": true,
      "toc_position": {},
      "toc_section_display": true,
      "toc_window_display": true
    }
  },
  "nbformat": 4,
  "nbformat_minor": 0
}