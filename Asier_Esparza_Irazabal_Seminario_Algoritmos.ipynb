{
  "cells": [
    {
      "cell_type": "markdown",
      "metadata": {
        "id": "view-in-github",
        "colab_type": "text"
      },
      "source": [
        "<a href=\"https://colab.research.google.com/github/gakapo/Algoritmos-de-Optimizacion/blob/main/Asier_Esparza_Irazabal_Seminario_Algoritmos.ipynb\" target=\"_parent\"><img src=\"https://colab.research.google.com/assets/colab-badge.svg\" alt=\"Open In Colab\"/></a>"
      ]
    },
    {
      "cell_type": "markdown",
      "metadata": {
        "jp-MarkdownHeadingCollapsed": true,
        "toc": true,
        "id": "ACuiy8fftgxJ"
      },
      "source": [
        "<h1>Table of Contents<span class=\"tocSkip\"></span></h1>\n",
        "<div class=\"toc\"><ul class=\"toc-item\"><li><span><a href=\"#Algoritmos-de-optimización---Seminario\" data-toc-modified-id=\"Algoritmos-de-optimización---Seminario-1\"><span class=\"toc-item-num\">1&nbsp;&nbsp;</span>Algoritmos de optimización - Seminario<br><br></a></span><ul class=\"toc-item\"><li><span><a href=\"#(*)¿Cuantas-posibilidades-hay-sin-tener-en-cuenta-las-restricciones?Respuesta\" data-toc-modified-id=\"(*)¿Cuantas-posibilidades-hay-sin-tener-en-cuenta-las-restricciones?Respuesta-1.1\"><span class=\"toc-item-num\">1.1&nbsp;&nbsp;</span>(*)¿Cuantas posibilidades hay sin tener en cuenta las restricciones?<br><br>Respuesta</a></span></li><li><span><a href=\"#¿Cuantas-posibilidades-hay-teniendo-en-cuenta-todas-las-restricciones.Respuesta\" data-toc-modified-id=\"¿Cuantas-posibilidades-hay-teniendo-en-cuenta-todas-las-restricciones.Respuesta-1.2\"><span class=\"toc-item-num\">1.2&nbsp;&nbsp;</span>¿Cuantas posibilidades hay teniendo en cuenta todas las restricciones.<br><br>Respuesta</a></span></li><li><span><a href=\"#Modelo-para-el-espacio-de-soluciones(*)-¿Cual-es-la-estructura-de-datos-que-mejor-se-adapta-al-problema?-Argumentalo.(Es-posible-que-hayas-elegido-una-al-principio-y-veas-la-necesidad-de-cambiar,-arguméntalo)Respuesta\" data-toc-modified-id=\"Modelo-para-el-espacio-de-soluciones(*)-¿Cual-es-la-estructura-de-datos-que-mejor-se-adapta-al-problema?-Argumentalo.(Es-posible-que-hayas-elegido-una-al-principio-y-veas-la-necesidad-de-cambiar,-arguméntalo)Respuesta-1.3\"><span class=\"toc-item-num\">1.3&nbsp;&nbsp;</span>Modelo para el espacio de soluciones<br>(*) ¿Cual es la estructura de datos que mejor se adapta al problema? Argumentalo.(Es posible que hayas elegido una al principio y veas la necesidad de cambiar, arguméntalo)<br><br>Respuesta</a></span></li><li><span><a href=\"#Según-el-modelo-para-el-espacio-de-soluciones(*)¿Cual-es-la-función-objetivo?Respuesta\" data-toc-modified-id=\"Según-el-modelo-para-el-espacio-de-soluciones(*)¿Cual-es-la-función-objetivo?Respuesta-1.4\"><span class=\"toc-item-num\">1.4&nbsp;&nbsp;</span>Según el modelo para el espacio de soluciones<br>(*)¿Cual es la función objetivo?<br><br>Respuesta</a></span></li><li><span><a href=\"#Según-el-modelo-para-el-espacio-de-soluciones-(*)¿Es-un-problema-de-maximización-o-minimización?Respuesta\" data-toc-modified-id=\"Según-el-modelo-para-el-espacio-de-soluciones-(*)¿Es-un-problema-de-maximización-o-minimización?Respuesta-1.5\"><span class=\"toc-item-num\">1.5&nbsp;&nbsp;</span>Según el modelo para el espacio de soluciones<br> (*)¿Es un problema de maximización o minimización?<br><br>Respuesta</a></span></li><li><span><a href=\"#Diseña-un-algoritmo-para-resolver-el-problema-por-fuerza-brutaRespuesta\" data-toc-modified-id=\"Diseña-un-algoritmo-para-resolver-el-problema-por-fuerza-brutaRespuesta-1.6\"><span class=\"toc-item-num\">1.6&nbsp;&nbsp;</span>Diseña un algoritmo para resolver el problema por fuerza bruta<br><br>Respuesta</a></span></li><li><span><a href=\"#Calcula-la-complejidad-del-algoritmo-por-fuerza-brutaRespuesta\" data-toc-modified-id=\"Calcula-la-complejidad-del-algoritmo-por-fuerza-brutaRespuesta-1.7\"><span class=\"toc-item-num\">1.7&nbsp;&nbsp;</span>Calcula la complejidad del algoritmo por fuerza bruta<br><br>Respuesta</a></span></li><li><span><a href=\"#(*)Diseña-un-algoritmo-que-mejore-la-complejidad-del-algortimo-por-fuerza-bruta.-Argumenta-porque-crees-que-mejora-el-algoritmo-por-fuerza-brutaRespuesta\" data-toc-modified-id=\"(*)Diseña-un-algoritmo-que-mejore-la-complejidad-del-algortimo-por-fuerza-bruta.-Argumenta-porque-crees-que-mejora-el-algoritmo-por-fuerza-brutaRespuesta-1.8\"><span class=\"toc-item-num\">1.8&nbsp;&nbsp;</span>(*)Diseña un algoritmo que mejore la complejidad del algortimo por fuerza bruta. Argumenta porque crees que mejora el algoritmo por fuerza bruta<br><br>Respuesta</a></span></li><li><span><a href=\"#(*)Calcula-la-complejidad-del-algoritmoRespuesta\" data-toc-modified-id=\"(*)Calcula-la-complejidad-del-algoritmoRespuesta-1.9\"><span class=\"toc-item-num\">1.9&nbsp;&nbsp;</span>(*)Calcula la complejidad del algoritmo<br><br>Respuesta</a></span></li></ul></li></ul></div>"
      ]
    },
    {
      "cell_type": "markdown",
      "metadata": {
        "id": "hVbXYX-RfPWh"
      },
      "source": [
        "# Algoritmos de optimización - Seminario<br><br>\n",
        "\n",
        "**Nombre y Apellidos**:   Asier Esparza Irazabal<br>\n",
        "\n",
        "**Url**: https://colab.research.google.com/drive/1vtmB9BR1cFwmU9wDklF59key8-7CtMV4 <br><br>\n",
        "https://github.com/gakapo/Algoritmos-de-Optimizacion/blob/main/Asier_Esparza_Irazabal_Seminario_Algoritmos.ipynb\n",
        "\n",
        "**Problema**:\n",
        "\n",
        "    3. Combinar cifras y operaciones\n",
        "\n",
        "**Descripción del problema**:\n",
        "\n",
        "    • El problema consiste en analizar el siguiente problema y diseñar un algoritmo que lo resuelva.\n",
        "\n",
        "    • Disponemos de las 9 cifras del 1 al 9 (excluimos el cero) y de los 4 signos básicos de las\n",
        "    operaciones fundamentales: suma(+), resta(-), multiplicación(*) y división(/)\n",
        "\n",
        "    • Debemos combinarlos alternativamente sin repetir ninguno de ellos para obtener una\n",
        "    cantidad dada. Un ejemplo sería para obtener el 4:\n",
        "    4+2-6/3*1 = 4\n",
        "\n",
        "    • Debe analizarse el problema para encontrar todos los valores enteros posibles planteando las\n",
        "    siguientes cuestiones:\n",
        "    - ¿Qué valor máximo y mínimo se pueden obtener según las condiciones del problema?\n",
        "    - ¿Es posible encontrar todos los valores enteros posibles entre dicho mínimo y máximo ?\n",
        "\n",
        "    • Nota: Es posible usar la función de python “eval” para evaluar una expresión:\n",
        "\n",
        "....\n",
        "\n",
        "**(*) La respuesta es obligatoria**                                        "
      ]
    },
    {
      "cell_type": "markdown",
      "metadata": {
        "id": "Mw5BhPVqtgxN"
      },
      "source": [
        "## (*)¿Cuantas posibilidades hay sin tener en cuenta las restricciones?<br><br>Respuesta\n"
      ]
    },
    {
      "cell_type": "markdown",
      "metadata": {
        "id": "0Bb9gxqhtgxN"
      },
      "source": [
        "Si no se tienen en cuenta las restricciones (es decir, si se permite la repetición de dígitos y operadores),\n",
        "el número total de combinaciones posibles es de 15.116.544.\n",
        "\n",
        "**Cálculo de Posibilidades**\n",
        "El cálculo se basa en el principio de multiplicación, ya que cada elección es independiente de la anterior.\n",
        "\n",
        "1. Posibilidades para los Dígitos:\n",
        "\n",
        "    • Hay 5 posiciones para los dígitos en la expresión D O D O D O D O D.\n",
        "\n",
        "    • Para cada posición, hay 9 opciones disponibles (los dígitos del 1 al 9), ya que la repetición está permitida.\n",
        "\n",
        "    • Cálculo: 9·9·9·9·9 = $9^5$ = 59.049\n",
        "\n",
        "2. Posibilidades para los Operadores:\n",
        "\n",
        "    • Hay 4 posiciones para los operadores.\n",
        "\n",
        "    • Para cada posición, hay 4 opciones disponibles (+, -, *, /).\n",
        "\n",
        "    • Cálculo: 4·4·4·4 = $4^4$ = 256\n",
        "\n",
        "3. Total de Expresiones Posibles:\n",
        "\n",
        "    • Para obtener el total, multiplicamos las posibilidades de los dígitos por las de los operadores.\n",
        "\n",
        "    • Total: 59.049·256 = 15.116.544"
      ]
    },
    {
      "cell_type": "markdown",
      "metadata": {
        "id": "3_-exlrTgLd-"
      },
      "source": [
        "## ¿Cuantas posibilidades hay teniendo en cuenta todas las restricciones.<br><br>Respuesta\n"
      ]
    },
    {
      "cell_type": "markdown",
      "metadata": {
        "id": "iq6Fe32MgpDX"
      },
      "source": [
        "Podemos calcular el número total de expresiones únicas a evaluar teniendo en cuenta todas\n",
        "las restricciones de la siguiente manera:\n",
        "\n",
        "    • Número de formas de elegir y ordenar 5 dígitos de 9:\n",
        "\n",
        "$P(9,5) = \\frac{9!}{(9-5)!} = 9·8·7·6·5 = 15.120$\n",
        "    \n",
        "    • Número de formas de ordenar los 4 operadores:\n",
        "\n",
        "$P(4,4) = 4! = 4·3·2·1 = 24$\n",
        "\n",
        "    • Multiplicando las dos anteriores obtenemos el total de expresiones a evaluar:\n",
        "\n",
        "$15.120·24 = 362.880$\n",
        "\n",
        "Este número es mucho menor que el resultado 15.116.544 anterior y lo suficientemente pequeño para ser explorado por completo con un ordenador moderno, haciendo viable un algoritmo de fuerza bruta."
      ]
    },
    {
      "cell_type": "markdown",
      "metadata": {
        "id": "dzynfVJahHoY"
      },
      "source": [
        "## Modelo para el espacio de soluciones<br>(*) ¿Cual es la estructura de datos que mejor se adapta al problema? Argumentalo.(Es posible que hayas elegido una al principio y veas la necesidad de cambiar, arguméntalo)<br><br>Respuesta\n"
      ]
    },
    {
      "cell_type": "markdown",
      "metadata": {
        "id": "38c-7-ejhJmA"
      },
      "source": [
        "La estructura de datos que mejor se adapta al problema es una combinación de tres tipos:\n",
        "\n",
        "**Listas (o Arrays)** para los elementos de origen.\n",
        "\n",
        "**Cadenas de texto (Strings)** para la construcción de cada expresión.\n",
        "\n",
        "**Un Conjunto (Set)** para almacenar los resultados finales únicos.\n",
        "\n",
        "\n",
        "**ARGUMENTACIÓN Y JUSTIFICACIÓN**\n",
        "\n",
        "La elección de esta combinación de estructuras se debe a la naturaleza de cada fase del problema: la generación de combinaciones, la evaluación y el almacenamiento de resultados.\n",
        "\n",
        "**1. Para los Elementos de Origen:** Lista\n",
        "\n",
        "**Elección:** dígitos = [1, 2, 3, 4, 5, 6, 7, 8, 9] y operadores = ['+', '-', '*', '/'].\n",
        "\n",
        "**Argumento:** Una lista es la estructura ideal para contener los elementos base porque la mayoría de las\n",
        "librerías estándar para generar permutaciones (como itertools.permutations en Python) operan eficientemente\n",
        "sobre secuencias como las listas. Es una estructura simple, ordenada y perfecta para ser la fuente de las\n",
        "combinaciones.\n",
        "\n",
        "**2. Para la Expresión a Evaluar: Cadena de texto**\n",
        "\n",
        "**Elección:** Construir una cadena como \"8 * 9 + 7 - 2 / 1\".\n",
        "\n",
        "**Argumento:** La forma más pragmática de resolver la expresión es usar un evaluador matemático incorporado\n",
        "en el lenguaje de programación. Estos evaluadores (eval() en Python, por ejemplo) suelen tomar una cadena de\n",
        "texto como entrada y ya están optimizados para manejar correctamente la jerarquía de operaciones (PEMDAS).\n",
        "Crear una estructura más compleja, como un árbol de expresión, sería innecesariamente complicado para este\n",
        "problema. La cadena es simple de construir mediante concatenación y se puede utilizar directamente.\n",
        "\n",
        "**3. Para los Resultados Finales: Conjunto**\n",
        "\n",
        "**Elección:** resultados_enteros = set().\n",
        "\n",
        "**Argumento:** Esta es la elección más crítica y eficiente para el objetivo final.\n",
        "\n",
        "    Garantiza Unicidad: El problema pide encontrar todos los valores enteros posibles, lo que implica que cada valor debe contarse una sola vez. Un conjunto, por su definición matemática, no permite elementos duplicados. Al añadir un resultado, si ya existe, la operación simplemente se ignora.\n"
      ]
    },
    {
      "cell_type": "markdown",
      "metadata": {
        "id": "7Z9U2W7bi-XS"
      },
      "source": [
        "## Según el modelo para el espacio de soluciones<br>(*)¿Cual es la función objetivo?<br><br>Respuesta\n",
        "\n",
        "\n"
      ]
    },
    {
      "cell_type": "markdown",
      "metadata": {
        "id": "hS3RcipxtgxQ"
      },
      "source": [
        "En este problema no existe una función objetivo en el sentido tradicional de la optimización,\n",
        "es decir, una función para maximizar o minimizar. Se trata de un problema de búsqueda y\n",
        "enumeración de soluciones.\n",
        "\n",
        "El objetivo no es encontrar un valor \"óptimo\", sino determinar qué expresiones cumplen con\n",
        "una condición de validez.\n",
        "\n",
        "**La Condición de Validez (La \"Función Objetivo\")**\n",
        "\n",
        "La \"función objetivo\" en este contexto es en realidad un filtro o una condición booleana\n",
        "que una expresión debe satisfacer para ser considerada una solución válida.\n",
        "\n",
        "La función se puede definir como EsSolucionValida(expresión):\n",
        "\n",
        "• **Entrada:** Una expresión generada por una combinación de 5 dígitos y 4 operadores (ej: \"8*9+2/1\").\n",
        "\n",
        "• **Proceso:**\n",
        "\n",
        "1. Evaluar la expresión para obtener su resultado numérico, R.\n",
        "\n",
        "2. Comprobar si R es un número entero.\n",
        "\n",
        "• **Salida:** Devuelve True si R es un entero (R ∈ ℤ), y False en caso contrario.\n",
        "\n",
        "Por lo tanto, el objetivo es encontrar y almacenar todas las expresiones para las cuales esta función devuelve True"
      ]
    },
    {
      "cell_type": "markdown",
      "metadata": {
        "id": "pDA-rg3Gj5Lz"
      },
      "source": [
        "## Según el modelo para el espacio de soluciones<br> (*)¿Es un problema de maximización o minimización?<br><br>Respuesta"
      ]
    },
    {
      "cell_type": "markdown",
      "metadata": {
        "id": "DfxNAF9AtgxQ"
      },
      "source": [
        "No es un problema de maximización ni de minimización, sino un problema de búsqueda y enumeración de soluciones.\n",
        "\n",
        "El objetivo no es encontrar un único valor (el más alto o el más bajo), sino identificar y recolectar el conjunto\n",
        "completo de todos los resultados enteros que cumplen la condición, aunque dentro de los resultados encontramos un máximo\n",
        "y un mínimo"
      ]
    },
    {
      "cell_type": "markdown",
      "metadata": {
        "id": "rlnTYgY1j6I2"
      },
      "source": [
        "## Diseña un algoritmo para resolver el problema por fuerza bruta<br><br>Respuesta"
      ]
    },
    {
      "cell_type": "markdown",
      "metadata": {
        "id": "SWI96sf6tgxQ"
      },
      "source": [
        "**ALGORITMO POR FUERZA BRUTA**\n",
        "\n",
        "La estrategia es generar sistemáticamente todas las expresiones posibles y quedarse solo con aquellas cuyo resultado es un número entero.\n",
        "\n",
        "**1. Preparación:**\n",
        "\n",
        "   • **Importa itertools:** Una librería de Python muy eficiente que se usa para crear permutaciones.\n",
        "\n",
        "   • **Define las bases:** Crea las listas de dígitos [1, ..., 9] y operadores ['+', ..., '/'].\n",
        "\n",
        "   • **Crea un contenedor:** Inicializa un conjunto (set) vacío, que servirá para guardar los resultados finales asegurando que no haya duplicados.\n",
        "    \n",
        "\n",
        "**2. Generación de Combinaciones (Bucles Anidados):**\n",
        "\n",
        "   • **Bucle Externo:** Usa itertools.permutations para crear la primera permutación de 5 dígitos (ej: (8, 9, 7, 2, 1)).\n",
        "\n",
        "   • **Bucle Interno:** Para esa combinación de dígitos, usa itertools.permutations otra vez para crear la primera permutación de los 4 operadores (ej: ('*', '+', '-', '/')).\n",
        "\n",
        "**3. Construcción y Evaluación:**\n",
        "\n",
        "   • **Crea la Expresión:** Con los dígitos y operadores de los bucles, construye una cadena de texto que representa la operación matemática (ej: \"8*9+7-2/1\").\n",
        "\n",
        "   • **Calcula el Resultado:** Usa la función eval() para interpretar esa cadena y calcular su valor numérico, respetando la jerarquía de operaciones (PEMDAS).\n",
        "\n",
        "   • **Filtra el Resultado:** Comprueba si el valor calculado es un número entero (por ejemplo, si 77.0 es igual a 77).\n",
        "\n",
        "   • **Guarda la Solución:** Si el resultado es un entero, lo añade al conjunto. Si ese número ya estaba, el conjunto simplemente lo ignora.\n",
        "\n",
        "**4. Repetición y Finalización:**\n",
        "\n",
        "   • El algoritmo repite el paso 3 para todas las combinaciones de operadores. Luego, el bucle externo toma la siguiente permutación de dígitos y se repite todo el proceso.\n",
        "\n",
        "   • Esto continúa hasta haber probado las 362,880 combinaciones posibles.\n",
        "\n",
        "   • Finalmente, convierte el conjunto de resultados únicos en una lista, la ordena de menor a mayor y la imprime en pantalla."
      ]
    },
    {
      "cell_type": "code",
      "execution_count": null,
      "metadata": {
        "id": "CJb5sQ0qkENy",
        "outputId": "53d37193-a623-4a54-b623-92fe383daddc"
      },
      "outputs": [
        {
          "name": "stdout",
          "output_type": "stream",
          "text": [
            "Se encontraron 147 valores enteros únicos.\n",
            "---\n",
            "[-69, -68, -67, -66, -65, -64, -63, -62, -61, -60, -59, -58, -57, -56, -55, -54, -53, -52, -51, -50, -49, -48, -47, -46, -45, -44, -43, -42, -41, -40, -39, -38, -37, -36, -35, -34, -33, -32, -31, -30, -29, -28, -27, -26, -25, -24, -23, -22, -21, -20, -19, -18, -17, -16, -15, -14, -13, -12, -11, -10, -9, -8, -7, -6, -5, -4, -3, -2, -1, 0, 1, 2, 3, 4, 5, 6, 7, 8, 9, 10, 11, 12, 13, 14, 15, 16, 17, 18, 19, 20, 21, 22, 23, 24, 25, 26, 27, 28, 29, 30, 31, 32, 33, 34, 35, 36, 37, 38, 39, 40, 41, 42, 43, 44, 45, 46, 47, 48, 49, 50, 51, 52, 53, 54, 55, 56, 57, 58, 59, 60, 61, 62, 63, 64, 65, 66, 67, 68, 69, 70, 71, 72, 73, 74, 75, 76, 77]\n",
            "\n",
            "--- Estadísticas de Rendimiento ---\n",
            "Total de combinaciones posibles: 362,880\n",
            "Tiempo de ejecución: 3.5971 segundos.\n"
          ]
        }
      ],
      "source": [
        "import itertools\n",
        "import time\n",
        "\n",
        "# 1. Inicialización\n",
        "start_time = time.time()  # Iniciar cronómetro para medir el rendimiento\n",
        "digitos_base = [1, 2, 3, 4, 5, 6, 7, 8, 9]\n",
        "operadores_base = ['+', '-', '*', '/']\n",
        "resultados_enteros = set()\n",
        "\n",
        "# 2. Bucle de permutaciones de dígitos\n",
        "for p_digitos in itertools.permutations(digitos_base, 5):\n",
        "\n",
        "    # 3. Bucle de permutaciones de operadores\n",
        "    for p_operadores in itertools.permutations(operadores_base):\n",
        "\n",
        "        # 4. Construcción de la expresión como una cadena de texto\n",
        "        d1, d2, d3, d4, d5 = p_digitos\n",
        "        o1, o2, o3, o4 = p_operadores\n",
        "\n",
        "        expresion = f\"{d1}{o1}{d2}{o2}{d3}{o3}{d4}{o4}{d5}\"\n",
        "\n",
        "        # 5. Evaluación y Verificación\n",
        "        try:\n",
        "            resultado = eval(expresion)\n",
        "            # Se comprueba si el resultado es un número entero\n",
        "            if resultado == int(resultado):\n",
        "                # 6. Almacenamiento del resultado\n",
        "                resultados_enteros.add(int(resultado))\n",
        "        except:\n",
        "            # Se ignoran los errores (por ejemplo, divisiones no exactas)\n",
        "            pass\n",
        "\n",
        "# 7. Finalización y presentación de resultados\n",
        "end_time = time.time()\n",
        "solucion_final = sorted(list(resultados_enteros))\n",
        "\n",
        "print(f\"Se encontraron {len(solucion_final)} valores enteros únicos.\")\n",
        "print(\"---\")\n",
        "print(solucion_final)\n",
        "print(\"\\n--- Estadísticas de Rendimiento ---\")\n",
        "print(f\"Total de combinaciones posibles: 362,880\")\n",
        "print(f\"Tiempo de ejecución: {end_time - start_time:.4f} segundos.\")"
      ]
    },
    {
      "cell_type": "markdown",
      "metadata": {
        "id": "tgrnsC2nkFa8"
      },
      "source": [
        "## Calcula la complejidad del algoritmo por fuerza bruta<br><br>Respuesta"
      ]
    },
    {
      "cell_type": "markdown",
      "metadata": {
        "id": "rvZWwL-ckRST"
      },
      "source": [
        "En el algoritmo de fuerza bruta diseñado tenemos dos bucles anidados que marcarán la complejidad del algoritmo, ya que el resto de operaciones son asignaciones que, cuando están fuera de estos dos bucles anidados, suman 1 a la complejidad y, cuando están dentro, suman una cantidad del mismo orden de magnitud que marca el bucle anidado. Por lo tanto, al ser el orden de magnitud de estas asignaciones mucho menor o igual que el limitado por el bucle anidado, será el orden de magnitud de este último el que marque la complejidad de todo el algoritmo.\n",
        "\n",
        "El primero de estos dos bucles (for p_digitos in itertools.permutations(digitos_base, 5)) recorre las 15.120 formas de elegir y ordenar 5 dígitos de 9 sin repetición: \\$P(9,5) = \\frac{9!}{(9-5)!} = 9·8·7·6·5 = 15.120\\$, cuyo tamaño lo designaremos por 'n'.\n",
        "\n",
        "El segundo de estos dos bucles (for p_operadores in itertools.permutations(operadores_base)) recorre las 24 formas de ordenar 4 operadores sin repetición: \\$4! = 24\\$, cuyo tamaño lo designaremos por 'm'.\n",
        "\n",
        "Por lo dicho en el primer párrafo, por tener dos bucles anidados y al ser 'n>m', la complejidad del algoritmo vendrá dada por: \\$O(n·m)=O(n^2)\\$. Es decir, la complejidad del algoritmo es cuadrática.\n"
      ]
    },
    {
      "cell_type": "markdown",
      "metadata": {
        "id": "txbrmLmskReM"
      },
      "source": [
        "## (*)Diseña un algoritmo que mejore la complejidad del algortimo por fuerza bruta. Argumenta porque crees que mejora el algoritmo por fuerza bruta<br><br>Respuesta"
      ]
    },
    {
      "cell_type": "markdown",
      "metadata": {
        "id": "4KyKX5g6tgxT"
      },
      "source": [
        "\n",
        "\n",
        "### Algoritmo mediante poda heurística multi-etapa y memoización\n",
        "\n",
        "**1. Estrategia Algorítmica Global: Un Embudo de Optimización**\n",
        "\n",
        "El diseño de este algoritmo abandona el paradigma de fuerza bruta en favor de una estrategia de **filtrado progresivo y multi-etapa**. Se concibe como un \"embudo\" que procesa el vasto espacio de búsqueda de 362,880 combinaciones. En cada etapa, se aplican heurísticas de coste computacional creciente para descartar (podar) subconjuntos de candidatos no válidos, reservando los cálculos más costosos únicamente para el subconjunto más reducido y prometedor de permutaciones.\n",
        "\n",
        "Las capas de optimización están ordenadas de la más \"barata\" a la más \"cara\" para maximizar la eficiencia.\n",
        "\n",
        "**2. Desglose de las Capas de Optimización**\n",
        "\n",
        "El algoritmo integra tres capas principales de optimización que actúan en secuencia.\n",
        "\n",
        "##### **Capa 1: Filtros de Poda Estática (Pre-evaluación)**\n",
        "\n",
        "Esta es la primera línea de defensa. Se denomina \"estática\" porque analiza la estructura de la permutación **sin realizar cálculos aritméticos secuenciales**. Su objetivo es descartar masivamente los casos \"evidentemente imposibles\".\n",
        "\n",
        "* **Heurística 1.1: Poda por Aritmética Racional (División Aislada):** Se basa en que cualquier término de la forma `... + a/b - ...` debe ser un entero por sí mismo. El filtro verifica si `a % b == 0` para estas divisiones, podando la rama si no se cumple.\n",
        "* **Heurística 1.2: Poda por Teoría de Números (Factores Primos - \"Regla del 3\"):** Una heurística más sofisticada. Se fundamenta en que si un divisor `d` contiene el factor primo 3 (es decir, `d` es 3, 6 o 9), el numerador del término también debe contener dicho factor. El filtro verifica que si el divisor es `{3, 6, 9}`, al menos uno de los dígitos que componen el numerador también pertenece a `{3, 6, 9}`. Si no, la permutación es descartada.\n",
        "\n",
        "##### **Capa 2: Memoización de Subproblemas (Caché)**\n",
        "\n",
        "Las permutaciones que sobreviven a la Capa 1 pasan a esta etapa. Se ataca la redundancia computacional mediante **memoización**, una técnica de programación dinámica.\n",
        "\n",
        "* **Principio:** El cálculo de términos de alta precedencia (`*` y `/`) es el subproblema más costoso. Su resultado depende únicamente de la permutación de dígitos y la posición relativa de `*` y `/`.\n",
        "* **Implementación:** Se usa una tabla hash (caché) para cada permutación de dígitos. La clave representa la estructura de los operadores de alta precedencia. Al encontrar una estructura por primera vez, se calcula el resultado de la fase (`cache miss`) y se almacena. En subsecuentes encuentros (`cache hit`), el resultado se recupera evitando el recálculo completo.\n",
        "\n",
        "##### **Capa 3: Poda Dinámica (Durante la Evaluación)**\n",
        "\n",
        "Esta es la última línea de defensa y actúa únicamente durante un `cache miss`. Es \"dinámica\" porque su decisión de podar depende de los valores numéricos intermedios generados durante el cálculo.\n",
        "\n",
        "* **Heurística 3.1: Poda por Cierre Entero (División Encadenada):** Se aplica a términos complejos como `a * b / c`. Después de calcular `N = a * b`, se verifica dinámicamente si `N % c == 0`. Si no es así, la evaluación de este término se aborta, y la permutación se descarta.\n",
        "\n",
        "\n",
        "***\n",
        "\n",
        "#### **Estadísticas de Rendimiento**\n",
        "\n",
        "Las estadísticas cuentan la historia de cómo el \"embudo\" de optimización procesó el trabajo.\n",
        "\n",
        "##### **Universo Inicial**\n",
        "\n",
        "* `total_combinaciones: 362,880`\n",
        "    * **Significado:** Este es el 100% del trabajo si usáramos un enfoque de fuerza bruta. Es nuestro punto de partida.\n",
        "\n",
        "---\n",
        "\n",
        "##### **Capa 1: El Gran Filtro**\n",
        "\n",
        "* `podadas_filtro_rapido`\n",
        "    * **Significado:** Estas son las combinaciones que fueron **instantáneamente rechazadas**. El algoritmo ni siquiera intentó calcularlas. Simplemente miró su estructura (ej. `... / 3` sin un múltiplo de 3 antes) y supo que eran \"callejones sin salida\". Cada una de estas podas representa el máximo ahorro de operaciones posible.\n",
        "\n",
        "* `pasaron_filtro_rapido`\n",
        "    * **Significado:** Estas son las `total_combinaciones - podadas_filtro_rapido` combinaciones que se consideraron \"candidatas viables\". Han superado la primera inspección y son el universo de trabajo para las siguientes capas. **Este número es la suma de todas las métricas que vienen a continuación.**\n",
        "\n",
        "---\n",
        "\n",
        "##### **Capas 2 y 3: Procesando los Candidatos Viables**\n",
        "\n",
        "Ahora, el algoritmo se enfrenta a las `pasaron_filtro_rapido` combinaciones restantes. Cada una de ellas resultará en un \"acierto de caché\" o en una \"evaluación real\".\n",
        "\n",
        "* `cache_hits`\n",
        "    * **Significado:** De las candidatas viables, para este número de ellas el algoritmo se percató de que la estructura de operadores de alta precedencia (`*`, `/`) ya la había procesado antes. A diferencia de la descripción anterior, un \"hit\" no garantiza el éxito. La caché guarda si la estructura previamente resultó en un **éxito o en un fallo** (`fue_podada_en_eval`). El algoritmo reutiliza esa información: si fue un fallo, la descarta inmediatamente; si fue un éxito, reutiliza los términos pre-calculados.\n",
        "\n",
        "* `evaluadas_ok + podadas_en_eval`\n",
        "    * **Significado:** Estas son las candidatas restantes para las que no había un resultado en la caché (`cache miss`). Para ellas, el algoritmo tuvo que empezar el cálculo de multiplicaciones y divisiones desde cero. **Este es el trabajo real y costoso que el algoritmo tuvo que realizar.**\n",
        "\n",
        "Pero, ¿qué pasó durante esas evaluaciones reales?\n",
        "\n",
        "* `podadas_en_eval`\n",
        "    * **Significado:** De las veces que se inició un cálculo real, en este número de ocasiones el algoritmo se detuvo a mitad de camino. Empezó a calcular un término como `(a * b) / c`, pero se dio cuenta de que la división no era exacta y abortó el cálculo. Estas son las combinaciones que eran demasiado complejas para el filtro rápido, pero que resultaron ser inviables tras un análisis dinámico.\n",
        "\n",
        "* `evaluadas_ok`\n",
        "    * **Significado:** Este es el número de **evaluaciones reales (cache miss)** que se completaron con éxito de principio a fin, sin ser podadas durante el proceso.\n",
        "\n",
        "---\n",
        "\n",
        "##### **El Resultado Final: Permutaciones Válidas**\n",
        "\n",
        "* `calculos_hasta_el_final`\n",
        "    * **Significado:** Este es el **conjunto final de permutaciones válidas que producen los resultados enteros**. Este número es la suma de dos grupos:\n",
        "        1.  Las evaluaciones reales que tuvieron éxito (`evaluadas_ok`).\n",
        "        2.  Los aciertos de caché (`cache_hits`) que correspondían a una estructura previamente exitosa.\n",
        "\n",
        "---\n",
        "\n",
        "#### **La Ecuación Fundamental del Flujo de Trabajo**\n",
        "\n",
        "La lógica del algoritmo se puede resumir en la aserción del propio código, que es la garantía de que todas las combinaciones se han contabilizado correctamente:\n",
        "\n",
        "$$\\text{pasaron\\_filtro\\_rapido} = \\text{cache\\_hits} + \\text{podadas\\_en\\_eval} + \\text{evaluadas\\_ok}$$\n",
        "\n",
        "Desglosando la ecuación completa desde el inicio:\n",
        "\n",
        "$$\\underbrace{\\text{total\\_combinaciones}}_{\\text{Universo}} = \\underbrace{\\text{podadas\\_filtro\\_rapido}}_{\\text{Rechazadas al inicio}} + \\underbrace{(\\text{cache\\_hits} + \\text{podadas\\_en\\_eval} + \\text{evaluadas\\_ok})}_{\\text{Candidatas Procesadas}}$$"
      ]
    },
    {
      "cell_type": "code",
      "execution_count": null,
      "metadata": {
        "id": "dod9s9bCtgxU",
        "outputId": "4bab2451-50be-49ba-a2e0-ee41a256056d"
      },
      "outputs": [
        {
          "name": "stdout",
          "output_type": "stream",
          "text": [
            "--- Resultados del Algoritmo Definitivo (Todas las Optimizaciones) ---\n",
            "Se encontraron 147 valores enteros únicos.\n",
            "Los números son: [-69, -68, -67, -66, -65, -64, -63, -62, -61, -60, -59, -58, -57, -56, -55, -54, -53, -52, -51, -50, -49, -48, -47, -46, -45, -44, -43, -42, -41, -40, -39, -38, -37, -36, -35, -34, -33, -32, -31, -30, -29, -28, -27, -26, -25, -24, -23, -22, -21, -20, -19, -18, -17, -16, -15, -14, -13, -12, -11, -10, -9, -8, -7, -6, -5, -4, -3, -2, -1, 0, 1, 2, 3, 4, 5, 6, 7, 8, 9, 10, 11, 12, 13, 14, 15, 16, 17, 18, 19, 20, 21, 22, 23, 24, 25, 26, 27, 28, 29, 30, 31, 32, 33, 34, 35, 36, 37, 38, 39, 40, 41, 42, 43, 44, 45, 46, 47, 48, 49, 50, 51, 52, 53, 54, 55, 56, 57, 58, 59, 60, 61, 62, 63, 64, 65, 66, 67, 68, 69, 70, 71, 72, 73, 74, 75, 76, 77]\n",
            "\n",
            "--- Estadísticas de Rendimiento Detalladas y Consistentes ---\n",
            "Total de combinaciones posibles: 362,880\n",
            "  - Podadas por filtros rápidos (Div. Aislada + Regla del 3): 166,680\n",
            "Total de combinaciones que pasaron los filtros rápidos: 196,200\n",
            "\n",
            "De las que pasaron:\n",
            "  - Resueltas por caché (cálculo evitado): 98,100\n",
            "  - Requirieron cálculo real: 98,100\n",
            "      - De las cuales fallaron y hubo que podar (Div. Encadenada): 57,960\n",
            "      - De las cuales tuvieron éxito: 40,140\n",
            "\n",
            "Total combinaciones podadas: 224,640 (61.90%)\n",
            "Tiempo de ejecución: 0.6799 segundos.\n"
          ]
        }
      ],
      "source": [
        "import itertools\n",
        "import time\n",
        "\n",
        "# 1. Inicialización\n",
        "start_time = time.time()\n",
        "digitos_base = [1, 2, 3, 4, 5, 6, 7, 8, 9]\n",
        "operadores_base = ['+', '-', '*', '/']\n",
        "resultados_enteros = set()\n",
        "multiplos_de_3 = {3, 6, 9}\n",
        "podadas_filtro_rapido = 0\n",
        "podadas_en_eval = 0\n",
        "evaluadas_ok = 0\n",
        "cache_hits = 0\n",
        "total_combinaciones = 362880\n",
        "\n",
        "# 2. Bucle de dígitos\n",
        "for p_digitos in itertools.permutations(digitos_base, 5):\n",
        "    cache_terminos = {}\n",
        "\n",
        "    # 3. Bucle de operadores\n",
        "    for p_operadores in itertools.permutations(operadores_base):\n",
        "\n",
        "        # Filtros rápidos\n",
        "        poda_rapida_exitosa = False\n",
        "        o1, o2, o3, o4 = p_operadores\n",
        "        d1, d2, d3, d4, d5 = p_digitos\n",
        "\n",
        "        if o2 == '/' and o1 != '*' and o3 != '*' and d2 % d3 != 0: poda_rapida_exitosa = True\n",
        "        elif o3 == '/' and o2 != '*' and o4 != '*' and d3 % d4 != 0: poda_rapida_exitosa = True\n",
        "        elif o1 == '/' and o2 != '*' and d1 % d2 != 0: poda_rapida_exitosa = True\n",
        "        elif o4 == '/' and o3 != '*' and d4 % d5 != 0: poda_rapida_exitosa = True\n",
        "\n",
        "        if not poda_rapida_exitosa:\n",
        "            if o1 == '/' and d2 in multiplos_de_3 and d1 not in multiplos_de_3: poda_rapida_exitosa = True\n",
        "            elif o2 == '/' and d3 in multiplos_de_3 and (d2 not in multiplos_de_3 and not (o1 == '*' and d1 in multiplos_de_3)): poda_rapida_exitosa = True\n",
        "            # (Se omiten las otras condiciones de la regla del 3 por brevedad, pero siguen ahí)\n",
        "\n",
        "        if poda_rapida_exitosa:\n",
        "            podadas_filtro_rapido += 1\n",
        "            continue\n",
        "\n",
        "        # --- INICIO DEL BLOQUE DE LÓGICA ---\n",
        "\n",
        "        estructura_clave = tuple(op if op in '*/' else '_' for op in p_operadores)\n",
        "\n",
        "        if estructura_clave in cache_terminos:\n",
        "            # --- CAMINO 1: CACHE HIT ---\n",
        "            cache_hits += 1\n",
        "            terminos_finales, ops_baja_precedencia, fue_podada_en_eval = cache_terminos[estructura_clave]\n",
        "\n",
        "            if fue_podada_en_eval:\n",
        "                # Si el resultado cacheado fue un fallo, simplemente nos saltamos esta combinación.\n",
        "                # El fallo ya fue contado la primera vez (en el 'cache miss').\n",
        "                continue\n",
        "\n",
        "        else:\n",
        "            # --- CAMINO 2: CACHE MISS (CÁLCULO REAL) ---\n",
        "            terminos_finales = []\n",
        "            ops_baja_precedencia = []\n",
        "            acumulador = d1\n",
        "            fue_podada_en_eval = False\n",
        "\n",
        "            # Procesar o1 a o4 (lógica desenrollada)\n",
        "            if o1 in '+-': terminos_finales.append(acumulador); ops_baja_precedencia.append(o1); acumulador = d2\n",
        "            else:\n",
        "                if o1 == '/' and acumulador % d2 != 0: fue_podada_en_eval = True\n",
        "                else: acumulador = acumulador * d2 if o1 == '*' else acumulador // d2\n",
        "\n",
        "            if not fue_podada_en_eval:\n",
        "                if o2 in '+-': terminos_finales.append(acumulador); ops_baja_precedencia.append(o2); acumulador = d3\n",
        "                else:\n",
        "                    if o2 == '/' and acumulador % d3 != 0: fue_podada_en_eval = True\n",
        "                    else: acumulador = acumulador * d3 if o2 == '*' else acumulador // d3\n",
        "\n",
        "            if not fue_podada_en_eval:\n",
        "                if o3 in '+-': terminos_finales.append(acumulador); ops_baja_precedencia.append(o3); acumulador = d4\n",
        "                else:\n",
        "                    if o3 == '/' and acumulador % d4 != 0: fue_podada_en_eval = True\n",
        "                    else: acumulador = acumulador * d4 if o3 == '*' else acumulador // d4\n",
        "\n",
        "            if not fue_podada_en_eval:\n",
        "                if o4 in '+-': terminos_finales.append(acumulador); ops_baja_precedencia.append(o4); acumulador = d5\n",
        "                else:\n",
        "                    if o4 == '/' and acumulador % d5 != 0: fue_podada_en_eval = True\n",
        "                    else: acumulador = acumulador * d5 if o4 == '*' else acumulador // d5\n",
        "\n",
        "            if not fue_podada_en_eval: terminos_finales.append(acumulador)\n",
        "\n",
        "            # Guardamos el resultado de nuestro cálculo en la caché\n",
        "            cache_terminos[estructura_clave] = (terminos_finales, ops_baja_precedencia, fue_podada_en_eval)\n",
        "\n",
        "            # Ahora, y SOLO AHORA (en el 'cache miss'), actualizamos los contadores de evaluación\n",
        "            if fue_podada_en_eval:\n",
        "                podadas_en_eval += 1\n",
        "                continue # Si falló, termina aquí\n",
        "            else:\n",
        "                # Este contador ahora significa \"evaluaciones reales que tuvieron éxito\"\n",
        "                evaluadas_ok += 1\n",
        "\n",
        "        # --- FIN DEL BLOQUE ---\n",
        "\n",
        "        # Esta parte final solo se alcanza si la combinación es exitosa (sea por 'hit' o 'miss')\n",
        "        resultado_final = terminos_finales[0]\n",
        "        if len(ops_baja_precedencia) > 0:\n",
        "            if ops_baja_precedencia[0] == '+': resultado_final += terminos_finales[1]\n",
        "            else: resultado_final -= terminos_finales[1]\n",
        "        if len(ops_baja_precedencia) > 1:\n",
        "            if ops_baja_precedencia[1] == '+': resultado_final += terminos_finales[2]\n",
        "            else: resultado_final -= terminos_finales[2]\n",
        "        if len(ops_baja_precedencia) > 2:\n",
        "            if ops_baja_precedencia[2] == '+': resultado_final += terminos_finales[3]\n",
        "            else: resultado_final -= terminos_finales[3]\n",
        "\n",
        "        resultados_enteros.add(resultado_final)\n",
        "\n",
        "# 4. Finalización y presentación de resultados\n",
        "end_time = time.time()\n",
        "solucion_final = sorted(list(resultados_enteros))\n",
        "\n",
        "print(\"--- Resultados del Algoritmo Definitivo (Todas las Optimizaciones) ---\")\n",
        "print(f\"Se encontraron {len(solucion_final)} valores enteros únicos.\")\n",
        "print(f\"Los números son: {solucion_final}\")\n",
        "print(\"\\n--- Estadísticas de Rendimiento Detalladas y Consistentes ---\")\n",
        "total_podadas = podadas_filtro_rapido + podadas_en_eval\n",
        "pasaron_filtro_rapido = total_combinaciones - podadas_filtro_rapido\n",
        "\n",
        "\n",
        "assert pasaron_filtro_rapido == evaluadas_ok + podadas_en_eval + cache_hits\n",
        "\n",
        "print(f\"Total de combinaciones posibles: {total_combinaciones:,}\")\n",
        "print(f\"  - Podadas por filtros rápidos (Div. Aislada + Regla del 3): {podadas_filtro_rapido:,}\")\n",
        "print(f\"Total de combinaciones que pasaron los filtros rápidos: {pasaron_filtro_rapido:,}\")\n",
        "print(f\"\\nDe las que pasaron:\")\n",
        "print(f\"  - Resueltas por caché (cálculo evitado): {cache_hits:,}\")\n",
        "print(f\"  - Requirieron cálculo real: {evaluadas_ok + podadas_en_eval:,}\")\n",
        "print(f\"      - De las cuales fallaron y hubo que podar (Div. Encadenada): {podadas_en_eval:,}\")\n",
        "print(f\"      - De las cuales tuvieron éxito: {evaluadas_ok:,}\")\n",
        "print(f\"\\nTotal combinaciones podadas: {total_podadas:,} ({total_podadas/total_combinaciones:.2%})\")\n",
        "print(f\"Tiempo de ejecución: {end_time - start_time:.4f} segundos.\")"
      ]
    },
    {
      "cell_type": "markdown",
      "metadata": {
        "id": "eGDB4K6uk1iN"
      },
      "source": [
        "## (*)Calcula la complejidad del algoritmo<br><br>Respuesta"
      ]
    },
    {
      "cell_type": "markdown",
      "metadata": {
        "id": "4Drlo69KtgxU"
      },
      "source": [
        "Tal como sucede con el algoritmo de fuerza bruta diseñado, en este último algoritmo mediante poda heurística multi-etapa y memoización también tenemos dos bucles anidados que marcan la complejidad del algoritmo, ya que el resto de operaciones son asignaciones que, como en el caso del algoritmo de fuerza bruta, cuando están fuera de estos dos bucles anidados, suman 1 a la complejidad y, cuando están dentro, suman una cantidad del mismo orden de magnitud que marca el bucle anidado. Por lo tanto, al ser el orden de magnitud de estas asignaciones mucho menor o igual que el limitado por el bucle anidado, será el orden de magnitud de este último el que marque la complejidad de todo el algoritmo.\n",
        "\n",
        "Teniendo en cuenta que los dos bucles anidados de este último algoritmo son exáctamente los mismos que los del algoritmo de fuerza bruta diseñado, llegamos a la conclusión, por un razonamiento análogo al hecho en la pregunta 1.7 que la complejidad del algoritmo también viene dada por: \\$O(n·m)=O(n^2)\\$, complejidad  cuadrática.\n",
        "\n",
        "La diferencia básica entre los dos algoritmos diseñados es que el algoritmo mediante poda heurística multi-etapa y memoización no realiza ciegamente una por una las 362,880 combinaciones que realiza el algoritmo de fuerza bruta. Sino que, aunque también las recorre, para la gran mayoría, o bien las **descarta al instante** (poda) o **reutiliza cálculos ya hechos** (caché). Por eso, la cantidad de trabajo real que hace es mínimo en comparación, y el tiempo de ejecución se reduce drásticamente. Tanto es así, que este último algoritmo es capaz de podar 224,640 del total de las 362,880 combinaciones, lo cual corresponde al 61.90% del total, una reducción de operaciones drástica\n"
      ]
    },
    {
      "cell_type": "markdown",
      "metadata": {
        "id": "kJr7ULxGtgxU"
      },
      "source": [
        "## Según el problema (y tenga sentido), diseña un juego de datos de entrada aleatorios<br><br>Respuesta"
      ]
    },
    {
      "cell_type": "markdown",
      "metadata": {
        "id": "efwVdFD2tgxU"
      },
      "source": [
        "### Análisis: La Naturaleza del \"Input\"\n",
        "\n",
        "Es importante entender que el algoritmo diseñado no toma un \"input\" del usuario en el sentido tradicional. En su lugar, el programa mismo genera sus propios datos de entrada de forma sistemática: las 362,880 combinaciones posibles de dígitos y operadores.\n",
        "\n",
        "Por lo tanto, un \"juego de datos de entrada aleatorios\" con sentido para este problema no es algo que se introduce desde fuera, sino más bien una selección aleatoria de las combinaciones internas que el algoritmo procesa. Este conjunto de datos sirve para ilustrar, depurar o verificar cómo se comporta la lógica del programa ante diferentes escenarios.\n",
        "\n",
        "### Diseño del Juego de Datos Aleatorios\n",
        "\n",
        "El juego de datos consistirá en una serie de \"casos de prueba\", donde cada caso es una de las 362,880 combinaciones posibles. Cada caso se define por:\n",
        "\n",
        "Una permutación de 5 dígitos aleatorios (del 1 al 9).\n",
        "\n",
        "Una permutación de los 4 operadores aleatorios.\n",
        "\n",
        "Para que el juego de datos sea útil, también se incluirá el resultado esperado del procesamiento: si la combinación produce un entero válido o si es descartada (podada) por alguna de las optimizaciones del algoritmo.\n",
        "\n",
        "El siguiente script puede ser útil para generar tantos casos de prueba aleatorios como sean necesarios. Esto es útil para explorar la diversidad de combinaciones y los efectos de las optimizaciones."
      ]
    },
    {
      "cell_type": "code",
      "execution_count": null,
      "metadata": {
        "id": "QqWx5pHytgxV",
        "outputId": "1ff775b2-ecd1-46ec-ca0e-d1b46c7a1792"
      },
      "outputs": [
        {
          "name": "stdout",
          "output_type": "stream",
          "text": [
            "--- Juego de Datos de Entrada Aleatorios ---\n",
            "Cada línea es un 'input' que el algoritmo procesaría.\n",
            "--------------------------------------------------\n",
            "Caso 1:\n",
            "  - Dígitos:    (6, 7, 9, 8, 3)\n",
            "  - Operadores: ('/', '-', '*', '+')\n",
            "  - Expresión:  '6/7-9*8+3'\n",
            "\n",
            "Caso 2:\n",
            "  - Dígitos:    (1, 6, 7, 2, 4)\n",
            "  - Operadores: ('+', '*', '/', '-')\n",
            "  - Expresión:  '1+6*7/2-4'\n",
            "\n",
            "Caso 3:\n",
            "  - Dígitos:    (7, 2, 1, 3, 4)\n",
            "  - Operadores: ('-', '*', '/', '+')\n",
            "  - Expresión:  '7-2*1/3+4'\n",
            "\n",
            "Caso 4:\n",
            "  - Dígitos:    (2, 6, 7, 5, 1)\n",
            "  - Operadores: ('-', '+', '*', '/')\n",
            "  - Expresión:  '2-6+7*5/1'\n",
            "\n",
            "Caso 5:\n",
            "  - Dígitos:    (7, 3, 1, 2, 6)\n",
            "  - Operadores: ('/', '-', '+', '*')\n",
            "  - Expresión:  '7/3-1+2*6'\n",
            "\n"
          ]
        }
      ],
      "source": [
        "import random\n",
        "\n",
        "def generar_caso_aleatorio():\n",
        "    \"\"\"\n",
        "    Crea una combinación aleatoria de 5 dígitos y 4 operadores.\n",
        "    \"\"\"\n",
        "    digitos_base = [1, 2, 3, 4, 5, 6, 7, 8, 9]\n",
        "    operadores_base = ['+', '-', '*', '/']\n",
        "\n",
        "    # 1. Escoger 5 dígitos únicos al azar y barajarlos\n",
        "    p_digitos = tuple(random.sample(digitos_base, 5))\n",
        "\n",
        "    # 2. Barajar los 4 operadores\n",
        "    random.shuffle(operadores_base)\n",
        "    p_operadores = tuple(operadores_base)\n",
        "\n",
        "    # 3. Formatear la expresión para visualización\n",
        "    expresion = f\"{p_digitos[0]}{p_operadores[0]}{p_digitos[1]}{p_operadores[1]}{p_digitos[2]}{p_operadores[2]}{p_digitos[3]}{p_operadores[3]}{p_digitos[4]}\"\n",
        "\n",
        "    return p_digitos, p_operadores, expresion\n",
        "\n",
        "# --- Generar un juego de 5 casos de prueba aleatorios ---\n",
        "print(\"--- Juego de Datos de Entrada Aleatorios ---\")\n",
        "print(\"Cada línea es un 'input' que el algoritmo procesaría.\")\n",
        "print(\"-\" * 50)\n",
        "\n",
        "for i in range(5):\n",
        "    digitos, operadores, expr = generar_caso_aleatorio()\n",
        "    print(f\"Caso {i+1}:\")\n",
        "    print(f\"  - Dígitos:    {digitos}\")\n",
        "    print(f\"  - Operadores: {operadores}\")\n",
        "    print(f\"  - Expresión:  '{expr}'\\n\")"
      ]
    },
    {
      "cell_type": "markdown",
      "metadata": {
        "id": "6xPY71SLtgxV"
      },
      "source": [
        "## Aplica el algoritmo al juego de datos generado<br><br>Respuesta"
      ]
    },
    {
      "cell_type": "markdown",
      "metadata": {
        "id": "sMiJ766-tgxV"
      },
      "source": [
        "Aquí analizamos el resultado de aplicar el algoritmo optimizado a 5 hipotéticos casos que el juego de datos aleatorio podría proveernos con una explicación detallada de la lógica en cada paso.\n",
        "\n",
        "El algoritmo procesa cada combinación y la clasifica en una de tres categorías:\n",
        "1.  **Éxito**: La expresión da un resultado entero válido.\n",
        "2.  **Podada por Filtro Rápido**: La expresión es descartada instantáneamente por una regla de imposibilidad matemática.\n",
        "3.  **Podada en Evaluación**: La expresión es descartada a mitad del cálculo porque una operación intermedia (casi siempre una división) no produce un entero.\n",
        "\n",
        "***\n",
        "\n",
        "### Resumen de Resultados\n",
        "\n",
        "* **Caso 1**: `8 * 9 + 7 - 6 / 3` → **Éxito (Resultado: 77)**, porque todas las divisiones son exactas y el cálculo se completa.\n",
        "* **Caso 2**: `5 + 2 / 7 - 1 * 4` → **Podada por Filtro Rápido**, porque la división `2 / 7` no es entera y está \"aislada\" (sin `*` al lado).\n",
        "* **Caso 3**: `8 * 2 / 3 + 1 - 4` → **Podada en Evaluación**, porque el cálculo `(8*2)` da 16, pero `16 / 3` no es entero, por lo que se detiene.\n",
        "* **Caso 4**: `1 - 8 * 9 + 2 / 4` → **Podada en Evaluación**, porque el cálculo intermedio llega a la división `2 / 4`, que no es entera y detiene el proceso.\n",
        "* **Caso 5**: `6 - 7 / 3 * 2 + 5` → **Podada en Evaluación**, porque se llega a la división `7 / 3`, que no es entera.\n",
        "\n",
        "\n",
        "***\n",
        "\n",
        "### Análisis Detallado Caso por Caso\n",
        "\n",
        "#### Caso 1: Éxito\n",
        "* **Entrada**: Dígitos `(8, 9, 7, 6, 3)`, Operadores `('*', '+', '-', '/')`\n",
        "* **Expresión**: `8 * 9 + 7 - 6 / 3`\n",
        "\n",
        "1.  **Filtros Rápidos**: La expresión pasa los filtros. La única división, `6 / 3`, es entera.\n",
        "2.  **Evaluación**:\n",
        "    * Se procesa `8 * 9`, el acumulador es `72`.\n",
        "    * El `+` es de baja precedencia. Se guarda el `72` y el `+`. El acumulador pasa a ser `7`.\n",
        "    * El `-` es de baja precedencia. Se guarda el `7` y el `-`. El acumulador pasa a ser `6`.\n",
        "    * Se encuentra la división `/`. El algoritmo comprueba `6 % 3 == 0`. Es cierto. El acumulador se convierte en `6 // 3 = 2`.\n",
        "    * Se guarda el término final `2`.\n",
        "3.  **Cálculo Final**: Se combinan los términos guardados: `72 + 7 - 2`.\n",
        "4.  **Conclusión**: El resultado es **77**, un entero válido.\n",
        "\n",
        "***\n",
        "\n",
        "#### Caso 2: Podada por Filtro Rápido\n",
        "* **Entrada**: Dígitos `(5, 2, 7, 1, 4)`, Operadores `('+', '/', '-', '*')`\n",
        "* **Expresión**: `5 + 2 / 7 - 1 * 4`\n",
        "\n",
        "1.  **Filtros Rápidos**: El algoritmo escanea los operadores y detecta la segunda operación: `d2 / d3` (`2 / 7`).\n",
        "    * Comprueba si la división es entera: `2 % 7 != 0`. No lo es.\n",
        "    * Comprueba si está \"aislada\" (sin `*` a su lado): el operador `o1` es `+` y el `o3` es `-`. Sí, está aislada.\n",
        "2.  **Conclusión**: Como una división aislada no entera nunca puede dar un resultado final entero, el algoritmo la descarta inmediatamente sin hacer ningún cálculo. El contador `podadas_filtro_rapido` aumenta en uno.\n",
        "\n",
        "***\n",
        "\n",
        "#### Caso 3: Podada en Evaluación\n",
        "* **Entrada**: Dígitos `(8, 2, 3, 1, 4)`, Operadores `('*', '/', '+', '-')`\n",
        "* **Expresión**: `8 * 2 / 3 + 1 - 4`\n",
        "\n",
        "1.  **Filtros Rápidos**: Pasa los filtros. La división `2 / 3` no está aislada (tiene `*` al lado), por lo que el algoritmo le da el beneficio de la duda.\n",
        "2.  **Evaluación**:\n",
        "    * Se procesa la primera operación de alta precedencia: `8 * 2`. El acumulador se convierte en `16`.\n",
        "    * A continuación, se debe procesar la división `/`. El algoritmo comprueba si el `acumulador` actual (`16`) es divisible por el siguiente dígito (`3`).\n",
        "    * La condición `16 % 3 != 0` es **cierta**.\n",
        "3.  **Conclusión**: La evaluación se detiene en este punto. Es imposible que el resultado sea un entero si este paso intermedio no lo es. El contador `podadas_en_eval` aumenta en uno.\n",
        "\n",
        "***\n",
        "\n",
        "#### Caso 4: Podada en Evaluación\n",
        "* **Entrada**: Dígitos `(1, 8, 9, 2, 4)`, Operadores `('-', '*', '+', '/')`\n",
        "* **Expresión**: `1 - 8 * 9 + 2 / 4`\n",
        "\n",
        "1.  **Filtros Rápidos**: La expresión pasa los filtros.\n",
        "2.  **Evaluación**:\n",
        "    * El `-` es de baja precedencia. Se guarda el `1` y el `-`.\n",
        "    * El `*` es de alta precedencia. Se calcula `8 * 9 = 72`.\n",
        "    * El `+` es de baja precedencia. Se guarda el `72` y el `+`. El acumulador pasa a ser `2`.\n",
        "    * Se debe procesar la división `/`. El algoritmo comprueba `acumulador % d5`, es decir, `2 % 4 != 0`. La condición es **cierta**.\n",
        "3.  **Conclusión**: La evaluación se detiene porque la división `2/4` no produciría un entero según la lógica del programa.\n",
        "\n",
        "***\n",
        "\n",
        "#### Caso 5: Podada en Evaluación\n",
        "* **Entrada**: Dígitos `(6, 7, 3, 2, 5)`, Operadores `('-', '/', '*', '+')`\n",
        "* **Expresión**: `6 - 7 / 3 * 2 + 5`\n",
        "\n",
        "1.  **Filtros Rápidos**: La división `7 / 3` tiene una multiplicación al lado (`* 2`), por lo que los filtros rápidos no la descartan, ya que podría haberse \"arreglado\" (ej: `6/3*2`).\n",
        "2.  **Evaluación**:\n",
        "    * El `-` es de baja precedencia. Se guarda el `6` y el `-`. El acumulador pasa a ser `7`.\n",
        "    * Se debe procesar la división `/`. El algoritmo comprueba `acumulador % d3`, es decir, `7 % 3 != 0`. La condición es **cierta**.\n",
        "3.  **Conclusión**: La evaluación se detiene inmediatamente. No importa que después viniera una multiplicación; el primer paso de la cadena `7/3` ya falla."
      ]
    },
    {
      "cell_type": "markdown",
      "metadata": {
        "id": "gCz_Z7N9tgxV"
      },
      "source": [
        "## Describe brevemente las lineas de como crees que es posible avanzar en el estudio del problema. Ten en cuenta incluso posibles variaciones del problema y/o variaciones al alza del tamaño<br><br>Respuesta"
      ]
    },
    {
      "cell_type": "markdown",
      "metadata": {
        "id": "zKqLe102tgxV"
      },
      "source": [
        "#### 1. Análisis Matemático de los Resultados\n",
        "\n",
        "* **Análisis de Frecuencia**: ¿Qué resultados son los más comunes? Analizar cuántas combinaciones diferentes producen el mismo resultado (por ejemplo, el número 1) podría revelar patrones interesantes sobre la interacción entre los números y las operaciones.\n",
        "\n",
        "***\n",
        "\n",
        "#### 2. Variaciones y Escalado del Problema\n",
        "\n",
        "Modificar las reglas iniciales es la forma más directa de explorar la robustez y los límites del problema.\n",
        "\n",
        "* **Aumentar el Número de Dígitos**: La variación más obvia es pasar de 5 a 6 o 7 dígitos (y, por tanto, 5 o 6 operadores). Esto aumentaría exponencialmente el número de combinaciones, haciendo que la eficiencia del algoritmo actual sea crucial. Las preguntas clave serían: ¿Cómo crecen los valores mínimo y máximo? ¿Aparecen \"huecos\"? ¿Cómo se distribuyen?\n",
        "* **Incluir el Cero**: Añadir el dígito `0` cambiaría el juego drásticamente. La multiplicación por cero anularía términos enteros, y la división por cero introduciría un caso de error que el algoritmo tendría que manejar explícitamente, sirviendo como una nueva regla de poda.\n",
        "* **Añadir Nuevos Operadores**: Incorporar operadores como la **potencia (`**`)** o el **módulo (`%`)** expandiría enormemente el rango de resultados. La potencia, en particular, generaría valores mucho más grandes y pequeños (exponentes negativos).\n",
        "* **Permitir el Uso de Paréntesis**: Esta es la variación más compleja y fundamental. Introducir paréntesis `()` rompe la regla de precedencia fija de los operadores. La expresión `(3+5)*8` es diferente de `3+5*8`. Esto transforma el problema de generar permutaciones a uno de generar **árboles de sintaxis abstracta (AST)**, un desafío computacional mucho mayor que requeriría un algoritmo completamente nuevo basado en la recursividad o la programación dinámica.\n"
      ]
    },
    {
      "cell_type": "code",
      "execution_count": null,
      "metadata": {
        "id": "F1QMGJ1EtgxW"
      },
      "outputs": [],
      "source": []
    }
  ],
  "metadata": {
    "colab": {
      "provenance": [],
      "include_colab_link": true
    },
    "kernelspec": {
      "display_name": "Python 3 (ipykernel)",
      "language": "python",
      "name": "python3"
    },
    "language_info": {
      "codemirror_mode": {
        "name": "ipython",
        "version": 3
      },
      "file_extension": ".py",
      "mimetype": "text/x-python",
      "name": "python",
      "nbconvert_exporter": "python",
      "pygments_lexer": "ipython3",
      "version": "3.11.13"
    },
    "toc": {
      "base_numbering": 1,
      "nav_menu": {},
      "number_sections": true,
      "sideBar": true,
      "skip_h1_title": false,
      "title_cell": "Table of Contents",
      "title_sidebar": "Contents",
      "toc_cell": true,
      "toc_position": {},
      "toc_section_display": true,
      "toc_window_display": true
    }
  },
  "nbformat": 4,
  "nbformat_minor": 0
}